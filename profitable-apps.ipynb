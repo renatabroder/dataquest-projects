{
 "cells": [
  {
   "cell_type": "markdown",
   "id": "intimate-finance",
   "metadata": {},
   "source": [
    "# Perfil de Aplicativos Lucrativos\n",
    "\n",
    "Esta análise tem como objetivo buscar quais os tipos de aplicativos não pagos, dentre aqueles disponíveis na *Google Play Store* e na *App Store* da *Apple* são os mais buscados pelos usuários.\n",
    "\n",
    "Os aplicativos a serem desenvolvidos serão disponibilizados gratuitamente e a fonte do lucro serão os anúncios veiculados neles. Partindo desta premissa, os aplicativos mais lucrativos são aqueles que atraem mais usuários.\n",
    "Os resultados obtidos por esta análise serão uma base para a tomada de decisão dos desenvolvedores em relação a qual tipo de aplicativo desenvolver."
   ]
  },
  {
   "cell_type": "markdown",
   "id": "round-backing",
   "metadata": {},
   "source": [
    "## Explorando os dados\n",
    "\n",
    "Serão utilizados dois diferentes conjuntos de dados, ambos disponibilizados pelo [*Kaggle*](https://www.kaggle.com/) sendo eles:\n",
    "\n",
    "   \n",
    "   * [*Google Play Store Apps*](https://www.kaggle.com/lava18/google-play-store-apps) - contém informações relativas a aproximadamente 10 mil diferentes aplicativos disponíveis na *Google Play Store*. Dados coletados em agosto de 2018.\n",
    "   * [*Mobile App Store (7200 apps)*](https://www.kaggle.com/ramamet4/app-store-apple-data-set-10k-apps) - contém informações relativas a aproximadamente 7 mil aplicativos disponíveis na *App Store*. Dados coletados em Julho de 2017."
   ]
  },
  {
   "cell_type": "code",
   "execution_count": 1,
   "id": "talented-restriction",
   "metadata": {},
   "outputs": [],
   "source": [
    "from IPython.display import Markdown, display\n",
    "from csv import reader\n",
    "\n",
    "### Google Play Store ###\n",
    "csv = open('Arquivos/googleplaystore.csv')\n",
    "read_csv = reader(csv)\n",
    "apps_android = list(read_csv)\n",
    "apps_android_header = apps_android[0]\n",
    "apps_android = apps_android[1:]\n",
    "\n",
    "### App Store ###\n",
    "csv = open('Arquivos/AppleStore.csv')\n",
    "read_csv = reader(csv)\n",
    "apps_ios = list(read_csv)\n",
    "apps_ios_header = apps_ios[0]\n",
    "apps_ios = apps_ios[1:]"
   ]
  },
  {
   "cell_type": "code",
   "execution_count": 2,
   "id": "expressed-tuning",
   "metadata": {},
   "outputs": [],
   "source": [
    "def explore_data(dataset, start, end, rows_and_columns=False):\n",
    "    dataset_slice = dataset[start:end]    \n",
    "    for row in dataset_slice:\n",
    "        print(row)\n",
    "        print('\\n') # adds a new (empty) line after each row\n",
    "\n",
    "    if rows_and_columns:\n",
    "        display(Markdown('#### Informações do *dataset*'))\n",
    "        print('Quantidade de linhas:', len(dataset))\n",
    "        print('Quantidade de colunas:', len(dataset[0]))"
   ]
  },
  {
   "cell_type": "code",
   "execution_count": 3,
   "id": "bored-focus",
   "metadata": {},
   "outputs": [
    {
     "data": {
      "text/markdown": [
       "#### Colunas do *Play Store*"
      ],
      "text/plain": [
       "<IPython.core.display.Markdown object>"
      ]
     },
     "metadata": {},
     "output_type": "display_data"
    },
    {
     "name": "stdout",
     "output_type": "stream",
     "text": [
      "['App', 'Category', 'Rating', 'Reviews', 'Size', 'Installs', 'Type', 'Price', 'Content Rating', 'Genres', 'Last Updated', 'Current Ver', 'Android Ver']\n"
     ]
    },
    {
     "data": {
      "text/markdown": [
       "#### Dados do *Play Store*"
      ],
      "text/plain": [
       "<IPython.core.display.Markdown object>"
      ]
     },
     "metadata": {},
     "output_type": "display_data"
    },
    {
     "name": "stdout",
     "output_type": "stream",
     "text": [
      "['Photo Editor & Candy Camera & Grid & ScrapBook', 'ART_AND_DESIGN', '4.1', '159', '19M', '10,000+', 'Free', '0', 'Everyone', 'Art & Design', 'January 7, 2018', '1.0.0', '4.0.3 and up']\n",
      "\n",
      "\n",
      "['Coloring book moana', 'ART_AND_DESIGN', '3.9', '967', '14M', '500,000+', 'Free', '0', 'Everyone', 'Art & Design;Pretend Play', 'January 15, 2018', '2.0.0', '4.0.3 and up']\n",
      "\n",
      "\n",
      "['U Launcher Lite – FREE Live Cool Themes, Hide Apps', 'ART_AND_DESIGN', '4.7', '87510', '8.7M', '5,000,000+', 'Free', '0', 'Everyone', 'Art & Design', 'August 1, 2018', '1.2.4', '4.0.3 and up']\n",
      "\n",
      "\n",
      "['Sketch - Draw & Paint', 'ART_AND_DESIGN', '4.5', '215644', '25M', '50,000,000+', 'Free', '0', 'Teen', 'Art & Design', 'June 8, 2018', 'Varies with device', '4.2 and up']\n",
      "\n",
      "\n",
      "['Pixel Draw - Number Art Coloring Book', 'ART_AND_DESIGN', '4.3', '967', '2.8M', '100,000+', 'Free', '0', 'Everyone', 'Art & Design;Creativity', 'June 20, 2018', '1.1', '4.4 and up']\n",
      "\n",
      "\n"
     ]
    },
    {
     "data": {
      "text/markdown": [
       "#### Informações do *dataset*"
      ],
      "text/plain": [
       "<IPython.core.display.Markdown object>"
      ]
     },
     "metadata": {},
     "output_type": "display_data"
    },
    {
     "name": "stdout",
     "output_type": "stream",
     "text": [
      "Quantidade de linhas: 10841\n",
      "Quantidade de colunas: 13\n"
     ]
    }
   ],
   "source": [
    "display(Markdown('#### Colunas do *Play Store*'))\n",
    "print(apps_android_header)\n",
    "\n",
    "display(Markdown('#### Dados do *Play Store*'))\n",
    "explore_data(apps_android, 0, 5, True)"
   ]
  },
  {
   "cell_type": "code",
   "execution_count": 4,
   "id": "cardiac-mileage",
   "metadata": {},
   "outputs": [
    {
     "data": {
      "text/markdown": [
       "#### Colunas do *App Store*"
      ],
      "text/plain": [
       "<IPython.core.display.Markdown object>"
      ]
     },
     "metadata": {},
     "output_type": "display_data"
    },
    {
     "name": "stdout",
     "output_type": "stream",
     "text": [
      "['id', 'track_name', 'size_bytes', 'currency', 'price', 'rating_count_tot', 'rating_count_ver', 'user_rating', 'user_rating_ver', 'ver', 'cont_rating', 'prime_genre', 'sup_devices.num', 'ipadSc_urls.num', 'lang.num', 'vpp_lic']\n"
     ]
    },
    {
     "data": {
      "text/markdown": [
       "#### Dados do *App Store*"
      ],
      "text/plain": [
       "<IPython.core.display.Markdown object>"
      ]
     },
     "metadata": {},
     "output_type": "display_data"
    },
    {
     "name": "stdout",
     "output_type": "stream",
     "text": [
      "['284882215', 'Facebook', '389879808', 'USD', '0.0', '2974676', '212', '3.5', '3.5', '95.0', '4+', 'Social Networking', '37', '1', '29', '1']\n",
      "\n",
      "\n",
      "['389801252', 'Instagram', '113954816', 'USD', '0.0', '2161558', '1289', '4.5', '4.0', '10.23', '12+', 'Photo & Video', '37', '0', '29', '1']\n",
      "\n",
      "\n",
      "['529479190', 'Clash of Clans', '116476928', 'USD', '0.0', '2130805', '579', '4.5', '4.5', '9.24.12', '9+', 'Games', '38', '5', '18', '1']\n",
      "\n",
      "\n",
      "['420009108', 'Temple Run', '65921024', 'USD', '0.0', '1724546', '3842', '4.5', '4.0', '1.6.2', '9+', 'Games', '40', '5', '1', '1']\n",
      "\n",
      "\n",
      "['284035177', 'Pandora - Music & Radio', '130242560', 'USD', '0.0', '1126879', '3594', '4.0', '4.5', '8.4.1', '12+', 'Music', '37', '4', '1', '1']\n",
      "\n",
      "\n"
     ]
    },
    {
     "data": {
      "text/markdown": [
       "#### Informações do *dataset*"
      ],
      "text/plain": [
       "<IPython.core.display.Markdown object>"
      ]
     },
     "metadata": {},
     "output_type": "display_data"
    },
    {
     "name": "stdout",
     "output_type": "stream",
     "text": [
      "Quantidade de linhas: 7197\n",
      "Quantidade de colunas: 16\n"
     ]
    }
   ],
   "source": [
    "display(Markdown('#### Colunas do *App Store*'))\n",
    "print(apps_ios_header)\n",
    "\n",
    "display(Markdown('#### Dados do *App Store*'))\n",
    "explore_data(apps_ios, 0, 5, rows_and_columns=True)"
   ]
  },
  {
   "cell_type": "markdown",
   "id": "composed-extra",
   "metadata": {},
   "source": [
    "## Limpeza dos dados\n",
    "\n",
    "Nesta etapa devemos garantir que os dados estejam precisos, eliminando duplicatas e corrigindo dados ausentes.\n",
    "Além disso, nosso objetivo é considerar apenas os aplicativos que sejam gratuitos e de língua inglesa, portanto devemos deletar do nosso conjunto de dados os aplicativos que não possuam estas características."
   ]
  },
  {
   "cell_type": "markdown",
   "id": "controlled-meditation",
   "metadata": {},
   "source": [
    "### 1. Dados não precisos\n",
    "\n",
    "Vamos começar a limpeza realizando a correção dos dados não precisos presentes em ambos os conjuntos de dados."
   ]
  },
  {
   "cell_type": "code",
   "execution_count": 5,
   "id": "irish-theta",
   "metadata": {},
   "outputs": [],
   "source": [
    "def verify_data_columns(dataset, header):\n",
    "    tam = len(header)\n",
    "    print('Quantidade de colunas: '+ str(tam), end='\\n\\n')\n",
    "    \n",
    "    for i in range(len(dataset)):\n",
    "        if(len(dataset[i]) != tam):\n",
    "            print('Quantidade diferente de colunas para o índice ' + str(i) + ': ' + str(len(dataset[i])) + ' colunas')\n",
    "            print(dataset[i], end='\\n\\n')"
   ]
  },
  {
   "cell_type": "code",
   "execution_count": 6,
   "id": "enhanced-piece",
   "metadata": {},
   "outputs": [
    {
     "name": "stdout",
     "output_type": "stream",
     "text": [
      "Quantidade de colunas: 13\n",
      "\n",
      "Quantidade diferente de colunas para o índice 10472: 12 colunas\n",
      "['Life Made WI-Fi Touchscreen Photo Frame', '1.9', '19', '3.0M', '1,000+', 'Free', '0', 'Everyone', '', 'February 11, 2018', '1.0.19', '4.0 and up']\n",
      "\n"
     ]
    }
   ],
   "source": [
    "verify_data_columns(apps_android, apps_android_header)"
   ]
  },
  {
   "cell_type": "code",
   "execution_count": 7,
   "id": "moved-comment",
   "metadata": {},
   "outputs": [
    {
     "name": "stdout",
     "output_type": "stream",
     "text": [
      "['Xposed Wi-Fi-Pwd', 'PERSONALIZATION', '3.5', '1042', '404k', '100,000+', 'Free', '0', 'Everyone', 'Personalization', 'August 5, 2014', '3.0.0', '4.0.3 and up']\n",
      "['Life Made WI-Fi Touchscreen Photo Frame', '1.9', '19', '3.0M', '1,000+', 'Free', '0', 'Everyone', '', 'February 11, 2018', '1.0.19', '4.0 and up']\n",
      "['osmino Wi-Fi: free WiFi', 'TOOLS', '4.2', '134203', '4.1M', '10,000,000+', 'Free', '0', 'Everyone', 'Tools', 'August 7, 2018', '6.06.14', '4.4 and up']\n"
     ]
    }
   ],
   "source": [
    "print(apps_android[10471])\n",
    "print(apps_android[10472])\n",
    "print(apps_android[10473])"
   ]
  },
  {
   "cell_type": "markdown",
   "id": "korean-intermediate",
   "metadata": {},
   "source": [
    "A partir da análise acima, verifica-se que os dados do *Play Store* devem ter informações referentes a 13 atributos. No entanto a linha 10472 possui apenas 12. Comparando-a com as linhas imediatamante acima e abaixo, podemos observar que o índice da coluna faltante é 1. Vamos deletar esta linha com dados faltantes."
   ]
  },
  {
   "cell_type": "code",
   "execution_count": 8,
   "id": "liquid-karen",
   "metadata": {},
   "outputs": [],
   "source": [
    "del apps_android[10472]"
   ]
  },
  {
   "cell_type": "code",
   "execution_count": 9,
   "id": "utility-appearance",
   "metadata": {
    "scrolled": true
   },
   "outputs": [
    {
     "name": "stdout",
     "output_type": "stream",
     "text": [
      "Quantidade de colunas: 16\n",
      "\n"
     ]
    }
   ],
   "source": [
    "verify_data_columns(apps_ios, apps_ios_header)"
   ]
  },
  {
   "cell_type": "markdown",
   "id": "reverse-newman",
   "metadata": {},
   "source": [
    "### 2. Remoção de duplicatas\n",
    "\n",
    "O conjunto de dados *Play Store* também possui duplicatas de alguns aplicativos, apenas mudando a informação relativa à quantidade de *reviews*, como pode-se ver na saída do trecho de código abaixo."
   ]
  },
  {
   "cell_type": "code",
   "execution_count": 10,
   "id": "rocky-tongue",
   "metadata": {},
   "outputs": [
    {
     "name": "stdout",
     "output_type": "stream",
     "text": [
      "['Instagram', 'SOCIAL', '4.5', '66577313', 'Varies with device', '1,000,000,000+', 'Free', '0', 'Teen', 'Social', 'July 31, 2018', 'Varies with device', 'Varies with device']\n",
      "['Instagram', 'SOCIAL', '4.5', '66577446', 'Varies with device', '1,000,000,000+', 'Free', '0', 'Teen', 'Social', 'July 31, 2018', 'Varies with device', 'Varies with device']\n",
      "['Instagram', 'SOCIAL', '4.5', '66577313', 'Varies with device', '1,000,000,000+', 'Free', '0', 'Teen', 'Social', 'July 31, 2018', 'Varies with device', 'Varies with device']\n",
      "['Instagram', 'SOCIAL', '4.5', '66509917', 'Varies with device', '1,000,000,000+', 'Free', '0', 'Teen', 'Social', 'July 31, 2018', 'Varies with device', 'Varies with device']\n"
     ]
    }
   ],
   "source": [
    "for app in apps_android:\n",
    "    if app[0] == 'Instagram': print(app)"
   ]
  },
  {
   "cell_type": "markdown",
   "id": "exempt-trial",
   "metadata": {},
   "source": [
    "Vamos então verificar quantas duplicatas de aplicativos existem para decidir qual é a melhor abordagem para removê-las."
   ]
  },
  {
   "cell_type": "code",
   "execution_count": 11,
   "id": "canadian-republic",
   "metadata": {},
   "outputs": [],
   "source": [
    "def verify_data_duplicates(dataset):\n",
    "    \n",
    "    duplicate_apps = []\n",
    "    unique_apps = []\n",
    "\n",
    "    for app in dataset:\n",
    "        name = app[0]\n",
    "        if name in unique_apps:\n",
    "            duplicate_apps.append(name)\n",
    "        else:\n",
    "            unique_apps.append(name)\n",
    "\n",
    "    print('Quantidade de aplicativos duplicados:', len(duplicate_apps), end='\\n\\n')\n",
    "    print('Exemplos de aplicativos duplicados:', duplicate_apps[:15])"
   ]
  },
  {
   "cell_type": "code",
   "execution_count": 12,
   "id": "silent-dodge",
   "metadata": {},
   "outputs": [
    {
     "name": "stdout",
     "output_type": "stream",
     "text": [
      "Quantidade de aplicativos duplicados: 1181\n",
      "\n",
      "Exemplos de aplicativos duplicados: ['Quick PDF Scanner + OCR FREE', 'Box', 'Google My Business', 'ZOOM Cloud Meetings', 'join.me - Simple Meetings', 'Box', 'Zenefits', 'Google Ads', 'Google My Business', 'Slack', 'FreshBooks Classic', 'Insightly CRM', 'QuickBooks Accounting: Invoicing & Expenses', 'HipChat - Chat Built for Teams', 'Xero Accounting Software']\n"
     ]
    }
   ],
   "source": [
    "verify_data_duplicates(apps_android)"
   ]
  },
  {
   "cell_type": "code",
   "execution_count": 13,
   "id": "intensive-atmosphere",
   "metadata": {},
   "outputs": [
    {
     "name": "stdout",
     "output_type": "stream",
     "text": [
      "Quantidade de aplicativos duplicados: 0\n",
      "\n",
      "Exemplos de aplicativos duplicados: []\n"
     ]
    }
   ],
   "source": [
    "verify_data_duplicates(apps_ios)"
   ]
  },
  {
   "cell_type": "markdown",
   "id": "wrapped-guest",
   "metadata": {},
   "source": [
    "Como verificado acima, apenas o conjunto de dados da *Play Store* possui as duplicatas, o da *App Store* não as possui. A estratégia adotada será a de utilizar a linha que possui maior quantidade de *reviews* (informação no index 3, indica que aquele dado foi recolhido mais recentemente) e as restantes serão eliminadas."
   ]
  },
  {
   "cell_type": "code",
   "execution_count": 14,
   "id": "casual-reader",
   "metadata": {},
   "outputs": [],
   "source": [
    "dict_unique_android = {}\n",
    "\n",
    "for app in apps_android:\n",
    "    name = app[0]\n",
    "    n_reviews = float(app[3])\n",
    "    \n",
    "    if(name not in dict_unique_android.keys()):\n",
    "        dict_unique_android[name] = n_reviews\n",
    "    else:\n",
    "        dict_unique_android[name] = dict_unique_android[name] if dict_unique_android[name] > n_reviews else n_reviews"
   ]
  },
  {
   "cell_type": "code",
   "execution_count": 15,
   "id": "dimensional-engine",
   "metadata": {},
   "outputs": [],
   "source": [
    "apps_android_clean = []\n",
    "apps_added = []\n",
    "\n",
    "for app in apps_android:\n",
    "    name = app[0]\n",
    "    n_reviews = float(app[3])\n",
    "    \n",
    "    if (n_reviews == dict_unique_android[name]) and (name not in apps_added):\n",
    "        apps_added.append(name)\n",
    "        apps_android_clean.append(app)"
   ]
  },
  {
   "cell_type": "code",
   "execution_count": 16,
   "id": "public-uncertainty",
   "metadata": {},
   "outputs": [
    {
     "name": "stdout",
     "output_type": "stream",
     "text": [
      "Quantidade de apps no conjunto original - quantidade de duplicatas: 9659\n",
      "Quantidade de apps no novo conjunto: 9659\n"
     ]
    }
   ],
   "source": [
    "print('Quantidade de apps no conjunto original - quantidade de duplicatas:' , len(apps_android)-1181)\n",
    "print('Quantidade de apps no novo conjunto:' , len(apps_android_clean))"
   ]
  },
  {
   "cell_type": "code",
   "execution_count": 17,
   "id": "finished-construction",
   "metadata": {},
   "outputs": [
    {
     "data": {
      "text/markdown": [
       "#### Informações do *dataset*"
      ],
      "text/plain": [
       "<IPython.core.display.Markdown object>"
      ]
     },
     "metadata": {},
     "output_type": "display_data"
    },
    {
     "name": "stdout",
     "output_type": "stream",
     "text": [
      "Quantidade de linhas: 9659\n",
      "Quantidade de colunas: 13\n"
     ]
    }
   ],
   "source": [
    "explore_data(apps_android_clean, 0, 0, True)"
   ]
  },
  {
   "cell_type": "markdown",
   "id": "pleasant-tunisia",
   "metadata": {},
   "source": [
    "### 3. Separação dos aplicativos desenvolvidos em inglês\n",
    "\n",
    "Como mencionado anteriormente, o público alvo para esta análise é aquele falante da língua inglesa. Se observarmos o nome de alguns dos aplicativos podemos observar claramente que não foram desenvolvidos em inglês:\n"
   ]
  },
  {
   "cell_type": "code",
   "execution_count": 18,
   "id": "chicken-riding",
   "metadata": {},
   "outputs": [
    {
     "data": {
      "text/markdown": [
       "#### Apps da *Play Store*"
      ],
      "text/plain": [
       "<IPython.core.display.Markdown object>"
      ]
     },
     "metadata": {},
     "output_type": "display_data"
    },
    {
     "name": "stdout",
     "output_type": "stream",
     "text": [
      "صور حرف H\n",
      "뽕티비 - 개인방송, 인터넷방송, BJ방송\n",
      "أحداث وحقائق | خبر عاجل في اخبار العالم\n",
      "FP Разбитый дисплей\n",
      "\n"
     ]
    },
    {
     "data": {
      "text/markdown": [
       "#### Apps da *App Store*"
      ],
      "text/plain": [
       "<IPython.core.display.Markdown object>"
      ]
     },
     "metadata": {},
     "output_type": "display_data"
    },
    {
     "name": "stdout",
     "output_type": "stream",
     "text": [
      "优酷视频\n",
      "Dictionary ( قاموس عربي / انجليزي + ودجيت الترجمة)\n",
      "スーパーストリートファイターIV パチスロエディション\n",
      "Übungen für einen starken Rücken – GEO WISSEN GESUNDHEIT\n"
     ]
    }
   ],
   "source": [
    "display(Markdown('#### Apps da *Play Store*'))\n",
    "print(apps_android_clean[3168][0])\n",
    "print(apps_android_clean[5205][0])\n",
    "print(apps_android_clean[8131][0])\n",
    "print(apps_android_clean[9582][0])\n",
    "print()\n",
    "display(Markdown('#### Apps da *App Store*'))\n",
    "print(apps_ios[1427][1])\n",
    "print(apps_ios[2512][1])\n",
    "print(apps_ios[6675][1])\n",
    "print(apps_ios[6831][1])"
   ]
  },
  {
   "cell_type": "markdown",
   "id": "joined-prescription",
   "metadata": {},
   "source": [
    "Vamos então utilizar uma função para identificar todos aqueles nomes de aplicativos que possuem mais de 3 caracteres diferentes de 0 e 127 na tabela ASCII (que são comumente os caracteres utilizados na língua inglesa)."
   ]
  },
  {
   "cell_type": "code",
   "execution_count": 19,
   "id": "balanced-projector",
   "metadata": {},
   "outputs": [],
   "source": [
    "def non_english_char(name):\n",
    "    if sum([1 if ord(c) > 172 else 0 for c in name]) > 3: return True\n",
    "    else: return False"
   ]
  },
  {
   "cell_type": "code",
   "execution_count": 20,
   "id": "foster-repository",
   "metadata": {},
   "outputs": [
    {
     "name": "stdout",
     "output_type": "stream",
     "text": [
      "False\n",
      "True\n",
      "False\n",
      "False\n"
     ]
    }
   ],
   "source": [
    "print(non_english_char('Instagram'))\n",
    "print(non_english_char('爱奇艺PPS -《欢乐颂2》电视剧热播'))\n",
    "print(non_english_char('Docs To Go™ Free Office Suite'))\n",
    "print(non_english_char('Instachat 😜'))"
   ]
  },
  {
   "cell_type": "code",
   "execution_count": 21,
   "id": "possible-flexibility",
   "metadata": {},
   "outputs": [
    {
     "data": {
      "text/markdown": [
       "#### Informações do *dataset*"
      ],
      "text/plain": [
       "<IPython.core.display.Markdown object>"
      ]
     },
     "metadata": {},
     "output_type": "display_data"
    },
    {
     "name": "stdout",
     "output_type": "stream",
     "text": [
      "Quantidade de linhas: 9614\n",
      "Quantidade de colunas: 13\n"
     ]
    }
   ],
   "source": [
    "apps_android_eng = []\n",
    "\n",
    "for app in apps_android_clean:\n",
    "    if not non_english_char(app[0]): apps_android_eng.append(app)\n",
    "        \n",
    "explore_data(apps_android_eng, 0, 0, True)"
   ]
  },
  {
   "cell_type": "code",
   "execution_count": 22,
   "id": "obvious-greenhouse",
   "metadata": {},
   "outputs": [
    {
     "data": {
      "text/markdown": [
       "#### Informações do *dataset*"
      ],
      "text/plain": [
       "<IPython.core.display.Markdown object>"
      ]
     },
     "metadata": {},
     "output_type": "display_data"
    },
    {
     "name": "stdout",
     "output_type": "stream",
     "text": [
      "Quantidade de linhas: 6183\n",
      "Quantidade de colunas: 16\n"
     ]
    }
   ],
   "source": [
    "apps_ios_eng = []\n",
    "\n",
    "for app in apps_ios:\n",
    "    if not non_english_char(app[1]): apps_ios_eng.append(app)\n",
    "        \n",
    "explore_data(apps_ios_eng, 0, 0, True)"
   ]
  },
  {
   "cell_type": "markdown",
   "id": "enormous-variation",
   "metadata": {},
   "source": [
    "### 4. Separação dos aplicativos gratuitos\n",
    "\n",
    "O aplicativo a ser desenvolvido será gratuito, e a fonte de lucro serão os anúncios. Então para obter uma análise mais assertiva, é necessário considerar apenas os aplicativos gratuitos. A próxima etapa então será manter apenas os aplicativos gratuitos.\n"
   ]
  },
  {
   "cell_type": "code",
   "execution_count": 23,
   "id": "unauthorized-prototype",
   "metadata": {},
   "outputs": [
    {
     "name": "stdout",
     "output_type": "stream",
     "text": [
      "Checar se não ficou algum de fora: [0.99, 1.0, 1.04, 1.2, 1.26, 1.29, 1.49, 1.5, 1.59, 1.61, 1.7, 1.75, 1.76, 1.96, 1.97, 1.99, 2.0, 2.49, 2.5, 2.56, 2.59, 2.6, 2.9, 2.95, 2.99, 3.02, 3.04, 3.08, 3.28, 3.49, 3.61, 3.88, 3.9, 3.95, 3.99, 4.29, 4.49, 4.59, 4.6, 4.77, 4.8, 4.84, 4.85, 4.99, 5.0, 5.49, 5.99, 6.49, 6.99, 7.49, 7.99, 8.49, 8.99, 9.0, 9.99, 10.0, 10.99, 11.99, 12.99, 13.99, 14.0, 14.99, 15.46, 15.99, 16.99, 17.99, 18.99, 19.4, 19.9, 19.99, 24.99, 25.99, 28.99, 29.99, 30.99, 33.99, 37.99, 39.99, 46.99, 74.99, 79.99, 89.99, 109.99, 154.99, 200.0, 299.99, 379.99, 389.99, 394.99, 399.99, 400.0]\n"
     ]
    },
    {
     "data": {
      "text/markdown": [
       "#### Informações do *dataset*"
      ],
      "text/plain": [
       "<IPython.core.display.Markdown object>"
      ]
     },
     "metadata": {},
     "output_type": "display_data"
    },
    {
     "name": "stdout",
     "output_type": "stream",
     "text": [
      "Quantidade de linhas: 8864\n",
      "Quantidade de colunas: 13\n"
     ]
    }
   ],
   "source": [
    "apps_android_free = []\n",
    "non_free = []\n",
    "\n",
    "for app in apps_android_eng:\n",
    "    if app[7] == '0': apps_android_free.append(app)\n",
    "    else: non_free.append(app[7])\n",
    "\n",
    "prices = [float(p.replace('$','')) for p in list(set(non_free))]\n",
    "print('Checar se não ficou algum de fora:', sorted(prices))\n",
    "explore_data(apps_android_free, 0, 0, True)"
   ]
  },
  {
   "cell_type": "code",
   "execution_count": 24,
   "id": "freelance-induction",
   "metadata": {},
   "outputs": [
    {
     "name": "stdout",
     "output_type": "stream",
     "text": [
      "Checar se não ficou algum de fora: ['0.99', '1.99', '11.99', '12.99', '13.99', '14.99', '15.99', '16.99', '17.99', '18.99', '19.99', '2.99', '20.99', '21.99', '22.99', '24.99', '249.99', '27.99', '29.99', '299.99', '3.99', '34.99', '39.99', '4.99', '49.99', '5.99', '59.99', '6.99', '7.99', '74.99', '8.99', '9.99', '99.99']\n"
     ]
    },
    {
     "data": {
      "text/markdown": [
       "#### Informações do *dataset*"
      ],
      "text/plain": [
       "<IPython.core.display.Markdown object>"
      ]
     },
     "metadata": {},
     "output_type": "display_data"
    },
    {
     "name": "stdout",
     "output_type": "stream",
     "text": [
      "Quantidade de linhas: 3222\n",
      "Quantidade de colunas: 16\n"
     ]
    }
   ],
   "source": [
    "apps_ios_free = []\n",
    "non_free = []\n",
    "\n",
    "for app in apps_ios_eng:\n",
    "    if app[4] == '0.0' or app[4] == '0': apps_ios_free.append(app)\n",
    "    else: non_free.append(app[4])\n",
    "\n",
    "\n",
    "prices = [p.replace('$','') for p in list(set(non_free))]\n",
    "print('Checar se não ficou algum de fora:', sorted(prices))\n",
    "explore_data(apps_ios_free, 0, 0, True)"
   ]
  },
  {
   "cell_type": "markdown",
   "id": "empirical-computer",
   "metadata": {},
   "source": [
    "## Análise dos dados\n",
    "\n",
    "Uma vez que os dados foram preparados através da limpeza, é possível então iniciar a análise.\n",
    "Deve-se ter em mente que estamos buscando os aplicativos mais populares, uma vez que a receita obtida será altamente influenciada pela quantidade de pessoas usando o aplicativo que será desenvolvido.\n",
    "\n",
    "A estratégia a ser adotada será a seguinte:\n",
    "1. Desenvolver uma versão mínima do aplicativo para *Android* e adicioná-la à *Google Play Store*;\n",
    "2. Desenvolver além da versão mínima, se a recepção pelos usuários for boa;\n",
    "3. Desenvolver uma versão *iOS* e adicioná-la à *App Store*, se após seis meses a versão para *Android* apresentar uma boa lucratividade.\n",
    "\n",
    "Como o objetivo final é disponibilizar o aplicativo para ambos sistemas operacionais, é necessário encontrar um perfil de aplicativo que sirva para ambos os *markets*."
   ]
  },
  {
   "cell_type": "markdown",
   "id": "decimal-membrane",
   "metadata": {},
   "source": [
    "#### Categorias e gêneros mais comuns\n",
    "\n",
    "Vamos começar buscando os gêneros de aplicativos mais comuns."
   ]
  },
  {
   "cell_type": "code",
   "execution_count": 25,
   "id": "visible-validation",
   "metadata": {},
   "outputs": [],
   "source": [
    "def freq_table(dataset, index):\n",
    "    freq = {}\n",
    "    freq_perc = {}\n",
    "    total = 0\n",
    "    \n",
    "    for app in dataset:\n",
    "        total += 1\n",
    "        if(app[index] not in freq):\n",
    "            freq[app[index]] = 1\n",
    "        else:\n",
    "            freq[app[index]] += 1\n",
    "            \n",
    "    for key in freq:\n",
    "        freq_perc[key] = round((freq[key] / total) * 100, 2)\n",
    "    \n",
    "    return freq_perc\n",
    "    "
   ]
  },
  {
   "cell_type": "code",
   "execution_count": 26,
   "id": "respective-burst",
   "metadata": {},
   "outputs": [],
   "source": [
    "def display_table(dataset, index):\n",
    "    table = freq_table(dataset, index)\n",
    "    table_display = []\n",
    "    for key in table:\n",
    "        key_val_as_tuple = (table[key], key)\n",
    "        table_display.append(key_val_as_tuple)\n",
    "\n",
    "    table_sorted = sorted(table_display, reverse = True)\n",
    "    for entry in table_sorted:\n",
    "        print(entry[1] + ': ' + str(entry[0]) + '%')"
   ]
  },
  {
   "cell_type": "code",
   "execution_count": 27,
   "id": "orange-crack",
   "metadata": {},
   "outputs": [
    {
     "data": {
      "text/markdown": [
       "#### *Play Store*: *Category*"
      ],
      "text/plain": [
       "<IPython.core.display.Markdown object>"
      ]
     },
     "metadata": {},
     "output_type": "display_data"
    },
    {
     "name": "stdout",
     "output_type": "stream",
     "text": [
      "FAMILY: 18.91%\n",
      "GAME: 9.72%\n",
      "TOOLS: 8.46%\n",
      "BUSINESS: 4.59%\n",
      "LIFESTYLE: 3.9%\n",
      "PRODUCTIVITY: 3.89%\n",
      "FINANCE: 3.7%\n",
      "MEDICAL: 3.53%\n",
      "SPORTS: 3.4%\n",
      "PERSONALIZATION: 3.32%\n",
      "COMMUNICATION: 3.24%\n",
      "HEALTH_AND_FITNESS: 3.08%\n",
      "PHOTOGRAPHY: 2.94%\n",
      "NEWS_AND_MAGAZINES: 2.8%\n",
      "SOCIAL: 2.66%\n",
      "TRAVEL_AND_LOCAL: 2.34%\n",
      "SHOPPING: 2.25%\n",
      "BOOKS_AND_REFERENCE: 2.14%\n",
      "DATING: 1.86%\n",
      "VIDEO_PLAYERS: 1.79%\n",
      "MAPS_AND_NAVIGATION: 1.4%\n",
      "FOOD_AND_DRINK: 1.24%\n",
      "EDUCATION: 1.16%\n",
      "ENTERTAINMENT: 0.96%\n",
      "LIBRARIES_AND_DEMO: 0.94%\n",
      "AUTO_AND_VEHICLES: 0.93%\n",
      "HOUSE_AND_HOME: 0.82%\n",
      "WEATHER: 0.8%\n",
      "EVENTS: 0.71%\n",
      "PARENTING: 0.65%\n",
      "ART_AND_DESIGN: 0.64%\n",
      "COMICS: 0.62%\n",
      "BEAUTY: 0.6%\n"
     ]
    }
   ],
   "source": [
    "display(Markdown('#### *Play Store*: *Category*'))\n",
    "display_table(apps_android_free, 1)"
   ]
  },
  {
   "cell_type": "markdown",
   "id": "automatic-ecology",
   "metadata": {},
   "source": [
    "Para a amostra de aplicativos gratuitos de língua inglesa do *Android*, é possível visualizar que a maior quantidade é referente à categoria **Família**, somando aproximadamente o dobro (18,91% dos aplicativos) da segunda categoria com a maior quantidade, que é a de **Jogo** (9,72% dos aplicativos). Em terceiro vem a categoria **Ferramentas**, com 8,46% dos aplicativos.\n",
    "\n",
    "Em uma análise mais geral, pode-se afirmar que há uma quantia significativa de aplicativos com fins práticos (como família, ferramentas, negócios, estilo de vida e produtividade, por exemplo) e que nenhuma categoria se destaca muito em quantidade."
   ]
  },
  {
   "cell_type": "code",
   "execution_count": 28,
   "id": "specified-ending",
   "metadata": {},
   "outputs": [
    {
     "data": {
      "text/markdown": [
       "#### *Play Store*: *Genres*"
      ],
      "text/plain": [
       "<IPython.core.display.Markdown object>"
      ]
     },
     "metadata": {},
     "output_type": "display_data"
    },
    {
     "name": "stdout",
     "output_type": "stream",
     "text": [
      "Tools: 8.45%\n",
      "Entertainment: 6.07%\n",
      "Education: 5.35%\n",
      "Business: 4.59%\n",
      "Productivity: 3.89%\n",
      "Lifestyle: 3.89%\n",
      "Finance: 3.7%\n",
      "Medical: 3.53%\n",
      "Sports: 3.46%\n",
      "Personalization: 3.32%\n",
      "Communication: 3.24%\n",
      "Action: 3.1%\n",
      "Health & Fitness: 3.08%\n",
      "Photography: 2.94%\n",
      "News & Magazines: 2.8%\n",
      "Social: 2.66%\n",
      "Travel & Local: 2.32%\n",
      "Shopping: 2.25%\n",
      "Books & Reference: 2.14%\n",
      "Simulation: 2.04%\n",
      "Dating: 1.86%\n",
      "Arcade: 1.85%\n",
      "Video Players & Editors: 1.77%\n",
      "Casual: 1.76%\n",
      "Maps & Navigation: 1.4%\n",
      "Food & Drink: 1.24%\n",
      "Puzzle: 1.13%\n",
      "Racing: 0.99%\n",
      "Role Playing: 0.94%\n",
      "Libraries & Demo: 0.94%\n",
      "Auto & Vehicles: 0.93%\n",
      "Strategy: 0.91%\n",
      "House & Home: 0.82%\n",
      "Weather: 0.8%\n",
      "Events: 0.71%\n",
      "Adventure: 0.68%\n",
      "Comics: 0.61%\n",
      "Beauty: 0.6%\n",
      "Art & Design: 0.6%\n",
      "Parenting: 0.5%\n",
      "Card: 0.45%\n",
      "Casino: 0.43%\n",
      "Trivia: 0.42%\n",
      "Educational;Education: 0.39%\n",
      "Board: 0.38%\n",
      "Educational: 0.37%\n",
      "Education;Education: 0.34%\n",
      "Word: 0.26%\n",
      "Casual;Pretend Play: 0.24%\n",
      "Music: 0.2%\n",
      "Racing;Action & Adventure: 0.17%\n",
      "Puzzle;Brain Games: 0.17%\n",
      "Entertainment;Music & Video: 0.17%\n",
      "Casual;Brain Games: 0.14%\n",
      "Casual;Action & Adventure: 0.14%\n",
      "Arcade;Action & Adventure: 0.12%\n",
      "Action;Action & Adventure: 0.1%\n",
      "Educational;Pretend Play: 0.09%\n",
      "Simulation;Action & Adventure: 0.08%\n",
      "Parenting;Education: 0.08%\n",
      "Entertainment;Brain Games: 0.08%\n",
      "Board;Brain Games: 0.08%\n",
      "Parenting;Music & Video: 0.07%\n",
      "Educational;Brain Games: 0.07%\n",
      "Casual;Creativity: 0.07%\n",
      "Art & Design;Creativity: 0.07%\n",
      "Education;Pretend Play: 0.06%\n",
      "Role Playing;Pretend Play: 0.05%\n",
      "Education;Creativity: 0.05%\n",
      "Role Playing;Action & Adventure: 0.03%\n",
      "Puzzle;Action & Adventure: 0.03%\n",
      "Entertainment;Creativity: 0.03%\n",
      "Entertainment;Action & Adventure: 0.03%\n",
      "Educational;Creativity: 0.03%\n",
      "Educational;Action & Adventure: 0.03%\n",
      "Education;Music & Video: 0.03%\n",
      "Education;Brain Games: 0.03%\n",
      "Education;Action & Adventure: 0.03%\n",
      "Adventure;Action & Adventure: 0.03%\n",
      "Video Players & Editors;Music & Video: 0.02%\n",
      "Sports;Action & Adventure: 0.02%\n",
      "Simulation;Pretend Play: 0.02%\n",
      "Puzzle;Creativity: 0.02%\n",
      "Music;Music & Video: 0.02%\n",
      "Entertainment;Pretend Play: 0.02%\n",
      "Casual;Education: 0.02%\n",
      "Board;Action & Adventure: 0.02%\n",
      "Video Players & Editors;Creativity: 0.01%\n",
      "Trivia;Education: 0.01%\n",
      "Travel & Local;Action & Adventure: 0.01%\n",
      "Tools;Education: 0.01%\n",
      "Strategy;Education: 0.01%\n",
      "Strategy;Creativity: 0.01%\n",
      "Strategy;Action & Adventure: 0.01%\n",
      "Simulation;Education: 0.01%\n",
      "Role Playing;Brain Games: 0.01%\n",
      "Racing;Pretend Play: 0.01%\n",
      "Puzzle;Education: 0.01%\n",
      "Parenting;Brain Games: 0.01%\n",
      "Music & Audio;Music & Video: 0.01%\n",
      "Lifestyle;Pretend Play: 0.01%\n",
      "Lifestyle;Education: 0.01%\n",
      "Health & Fitness;Education: 0.01%\n",
      "Health & Fitness;Action & Adventure: 0.01%\n",
      "Entertainment;Education: 0.01%\n",
      "Communication;Creativity: 0.01%\n",
      "Comics;Creativity: 0.01%\n",
      "Casual;Music & Video: 0.01%\n",
      "Card;Action & Adventure: 0.01%\n",
      "Books & Reference;Education: 0.01%\n",
      "Art & Design;Pretend Play: 0.01%\n",
      "Art & Design;Action & Adventure: 0.01%\n",
      "Arcade;Pretend Play: 0.01%\n",
      "Adventure;Education: 0.01%\n"
     ]
    }
   ],
   "source": [
    "display(Markdown('#### *Play Store*: *Genres*'))\n",
    "display_table(apps_android_free, 9)"
   ]
  },
  {
   "cell_type": "markdown",
   "id": "handy-schema",
   "metadata": {},
   "source": [
    "Em relação aos gêneros para o *Android*, o primeiro colocado em quantidade é **Ferramentas**, o segundo **Entretenimento** e o terceiro **Educação**. Estes resultados condizem com as categorias mais frequentes, apesar da falta de uma relação muito clara entre categoria e gênero.\n",
    "De uma maneira geral, para os aplicativos do *Android*, a maior quantidade é de aplicativos de ferramentas."
   ]
  },
  {
   "cell_type": "code",
   "execution_count": 29,
   "id": "fallen-davis",
   "metadata": {},
   "outputs": [
    {
     "data": {
      "text/markdown": [
       "#### *App Store*: *prime_genre*"
      ],
      "text/plain": [
       "<IPython.core.display.Markdown object>"
      ]
     },
     "metadata": {},
     "output_type": "display_data"
    },
    {
     "name": "stdout",
     "output_type": "stream",
     "text": [
      "Games: 58.16%\n",
      "Entertainment: 7.88%\n",
      "Photo & Video: 4.97%\n",
      "Education: 3.66%\n",
      "Social Networking: 3.29%\n",
      "Shopping: 2.61%\n",
      "Utilities: 2.51%\n",
      "Sports: 2.14%\n",
      "Music: 2.05%\n",
      "Health & Fitness: 2.02%\n",
      "Productivity: 1.74%\n",
      "Lifestyle: 1.58%\n",
      "News: 1.33%\n",
      "Travel: 1.24%\n",
      "Finance: 1.12%\n",
      "Weather: 0.87%\n",
      "Food & Drink: 0.81%\n",
      "Reference: 0.56%\n",
      "Business: 0.53%\n",
      "Book: 0.43%\n",
      "Navigation: 0.19%\n",
      "Medical: 0.19%\n",
      "Catalogs: 0.12%\n"
     ]
    }
   ],
   "source": [
    "display(Markdown('#### *App Store*: *prime_genre*'))\n",
    "display_table(apps_ios_free, 11)"
   ]
  },
  {
   "cell_type": "markdown",
   "id": "convinced-asthma",
   "metadata": {},
   "source": [
    "Para a amostra com as mesmas características do *iOS* a maior quantidade de aplicativos é do gênero **Jogos**, somando 58,16% dos aplicativos, com muita diferença para a segundo maior, **Entretenimento**, que possui menos de 8% dos aplicativos.\n",
    "\n",
    "Observando os gêneros de aplicativos mais frequentes na amostra, é possível afimar que para o *iOS* os aplicativos de entretenimento (jogos, redes sociais, foto & vídeo) são os de maior quantidade para a *App Store*, de maneira que os aplicativos com fins práticos (dentre vários outros, saúde, produtividade, utilidades e clima) são uma quantidade menor, o contrário do *Android*."
   ]
  },
  {
   "cell_type": "markdown",
   "id": "heated-remainder",
   "metadata": {},
   "source": [
    "A análise relativa aos aplicativos mais comuns nas duas *stores* mostrou que os aplicativos para *iOS* são predominantemente jogos, enquanto o mesmo não pode ser observado para o *Android*, que apresenta uma distribuição mais equilibrada entre jogos e aplicativos para fins práticos.\n",
    "\n",
    "No entanto esta análise em si não diz muito sobre a popularidade dos aplicativos, ela apenas oferece informações sobre a disponibilidade dos aplicativos, não sendo capaz de oferecer *insights* sobre a demanda. Então vamos tentar utilizar as informações de ambos os conjuntos de dados para descobrir mais sobre a popularidade dos aplicativos."
   ]
  },
  {
   "cell_type": "markdown",
   "id": "particular-fields",
   "metadata": {},
   "source": [
    "### Gêneros de aplicativos mais populares\n",
    "\n",
    "O objetivo é descobrir quais são os aplicativos mais populares nas amostras que temos em mãos. Para o *Android* vamos utilizar a quantidade de downloads (da coluna `Installs`, de índice 5). Como para *iOS* não existe essa informação, utilizaremos a quantidade de avaliações (coluna `rating_count_tot`, de índice 5)."
   ]
  },
  {
   "cell_type": "markdown",
   "id": "tough-watts",
   "metadata": {},
   "source": [
    "#### *App Store*\n",
    "\n",
    "Como já mencionado, aqui não temos como para o conjunto do *Android* uma quantidade aproximada de instalações, mas sim uma quantidade de avaliações, que é geralmente bem menor do que a primeira. Além disso, não temos padronizado o que seria uma alta quantidade de avaliações para todos os aplicativos. Por este motivo, não vamos adotar o mesmo critério de remoção de aplicativos com muitas avaliações."
   ]
  },
  {
   "cell_type": "code",
   "execution_count": 30,
   "id": "accepted-nashville",
   "metadata": {},
   "outputs": [
    {
     "data": {
      "text/markdown": [
       "#### Número médio de avaliações por gênero"
      ],
      "text/plain": [
       "<IPython.core.display.Markdown object>"
      ]
     },
     "metadata": {},
     "output_type": "display_data"
    },
    {
     "name": "stdout",
     "output_type": "stream",
     "text": [
      "Social Networking: 71548.35\n",
      "Photo & Video: 28441.54\n",
      "Games: 22788.67\n",
      "Music: 57326.53\n",
      "Reference: 74942.11\n",
      "Health & Fitness: 23298.02\n",
      "Weather: 52279.89\n",
      "Utilities: 18684.46\n",
      "Travel: 28243.8\n",
      "Shopping: 26919.69\n",
      "News: 21248.02\n",
      "Navigation: 86090.33\n",
      "Lifestyle: 16485.76\n",
      "Entertainment: 14029.83\n",
      "Food & Drink: 33333.92\n",
      "Sports: 23008.9\n",
      "Book: 39758.5\n",
      "Finance: 31467.94\n",
      "Education: 7003.98\n",
      "Productivity: 21028.41\n",
      "Business: 7491.12\n",
      "Catalogs: 4004.0\n",
      "Medical: 612.0\n"
     ]
    }
   ],
   "source": [
    "display(Markdown('#### Número médio de avaliações por gênero'))\n",
    "\n",
    "ios_genres = freq_table(apps_ios_free, 11).keys()\n",
    "\n",
    "for genre in ios_genres:\n",
    "    total = 0\n",
    "    len_genre = 0\n",
    "    \n",
    "    for app in apps_ios_free:\n",
    "        app_genre = app[11]\n",
    "        if app_genre == genre:\n",
    "            rating_count = float(app[5])\n",
    "            total += rating_count\n",
    "            len_genre += 1\n",
    "    \n",
    "    print(genre + ': ' + str(round(total / len_genre, 2)))\n"
   ]
  },
  {
   "cell_type": "markdown",
   "id": "joint-belief",
   "metadata": {},
   "source": [
    "Obtidas as médias, vamos analisar os gêneros que possuem as maiores, sendo eles:\n",
    "\n",
    "1. Navigation\n",
    "2. Reference\n",
    "3. Social Networking\n",
    "4. Music\n",
    "5. Weather\n",
    "6. Book\n",
    "7. Food & Drink\n",
    "8. Finance"
   ]
  },
  {
   "cell_type": "code",
   "execution_count": 31,
   "id": "major-brave",
   "metadata": {},
   "outputs": [
    {
     "name": "stdout",
     "output_type": "stream",
     "text": [
      "Waze - GPS Navigation, Maps & Real-time Traffic: 345046\n",
      "Google Maps - Navigation & Transit: 154911\n",
      "Geocaching®: 12811\n",
      "CoPilot GPS – Car Navigation & Offline Maps: 3582\n",
      "ImmobilienScout24: Real Estate Search in Germany: 187\n",
      "Railway Route Search: 5\n"
     ]
    }
   ],
   "source": [
    "for app in apps_ios_free:\n",
    "    if(app[11] == 'Navigation'): print(app[1] + ': ' + app[5])"
   ]
  },
  {
   "cell_type": "markdown",
   "id": "pending-energy",
   "metadata": {},
   "source": [
    "Aqui pode-se observar que *Waze* e *Google Maps* são os grandes aplicativos que puxam a média pra cima, de modo que a quantidade de avaliações neste gênero não é bem distribuída. Além disso, a quantidade de aplicativos deste gênero é baixa. Em outras palavras, a popularidade dos dois aplicativos mencionados é muito grande, o que mascara a real popularidade de todos os outros aplicativos do mesmo gênero."
   ]
  },
  {
   "cell_type": "code",
   "execution_count": 32,
   "id": "classified-terrorism",
   "metadata": {},
   "outputs": [
    {
     "name": "stdout",
     "output_type": "stream",
     "text": [
      "Bible: 985920\n",
      "Dictionary.com Dictionary & Thesaurus: 200047\n",
      "Dictionary.com Dictionary & Thesaurus for iPad: 54175\n",
      "Google Translate: 26786\n",
      "Muslim Pro: Ramadan 2017 Prayer Times, Azan, Quran: 18418\n",
      "New Furniture Mods - Pocket Wiki & Game Tools for Minecraft PC Edition: 17588\n",
      "Merriam-Webster Dictionary: 16849\n",
      "Night Sky: 12122\n",
      "City Maps for Minecraft PE - The Best Maps for Minecraft Pocket Edition (MCPE): 8535\n",
      "LUCKY BLOCK MOD ™ for Minecraft PC Edition - The Best Pocket Wiki & Mods Installer Tools: 4693\n",
      "GUNS MODS for Minecraft PC Edition - Mods Tools: 1497\n",
      "Guides for Pokémon GO - Pokemon GO News and Cheats: 826\n",
      "WWDC: 762\n",
      "Horror Maps for Minecraft PE - Download The Scariest Maps for Minecraft Pocket Edition (MCPE) Free: 718\n",
      "VPN Express: 14\n",
      "Real Bike Traffic Rider Virtual Reality Glasses: 8\n",
      "教えて!goo: 0\n",
      "Jishokun-Japanese English Dictionary & Translator: 0\n"
     ]
    }
   ],
   "source": [
    "for app in apps_ios_free:\n",
    "    if(app[11] == 'Reference'): print(app[1] + ': ' + app[5]) "
   ]
  },
  {
   "cell_type": "markdown",
   "id": "every-triumph",
   "metadata": {},
   "source": [
    "O mesmo pode se observar para o gênero `Reference`, no qual o aplicativo *Bible* e o *Dictionary.com Dictionary & Thesaurus* juntos tem uma quantidade enorme de avaliações em comparação com o restante dos aplicativos.\n",
    "\n",
    "Há potencial na indicação deste gênero. Se apenas os aplicativos para *iOS* estivessem sendo considerados, esta seria uma provável indicação."
   ]
  },
  {
   "cell_type": "code",
   "execution_count": 33,
   "id": "leading-empire",
   "metadata": {},
   "outputs": [
    {
     "name": "stdout",
     "output_type": "stream",
     "text": [
      "Facebook: 2974676\n",
      "Pinterest: 1061624\n",
      "Skype for iPhone: 373519\n",
      "Messenger: 351466\n",
      "Tumblr: 334293\n",
      "WhatsApp Messenger: 287589\n",
      "Kik: 260965\n",
      "ooVoo – Free Video Call, Text and Voice: 177501\n",
      "TextNow - Unlimited Text + Calls: 164963\n",
      "Viber Messenger – Text & Call: 164249\n",
      "Followers - Social Analytics For Instagram: 112778\n",
      "MeetMe - Chat and Meet New People: 97072\n",
      "We Heart It - Fashion, wallpapers, quotes, tattoos: 90414\n",
      "InsTrack for Instagram - Analytics Plus More: 85535\n",
      "Tango - Free Video Call, Voice and Chat: 75412\n",
      "LinkedIn: 71856\n",
      "Match™ - #1 Dating App.: 60659\n",
      "Skype for iPad: 60163\n",
      "POF - Best Dating App for Conversations: 52642\n",
      "Timehop: 49510\n",
      "Find My Family, Friends & iPhone - Life360 Locator: 43877\n",
      "Whisper - Share, Express, Meet: 39819\n",
      "Hangouts: 36404\n",
      "LINE PLAY - Your Avatar World: 34677\n",
      "WeChat: 34584\n",
      "Badoo - Meet New People, Chat, Socialize.: 34428\n",
      "Followers + for Instagram - Follower Analytics: 28633\n",
      "GroupMe: 28260\n",
      "Marco Polo Video Walkie Talkie: 27662\n",
      "Miitomo: 23965\n",
      "SimSimi: 23530\n",
      "Grindr - Gay and same sex guys chat, meet and date: 23201\n",
      "Wishbone - Compare Anything: 20649\n",
      "imo video calls and chat: 18841\n",
      "After School - Funny Anonymous School News: 18482\n",
      "Quick Reposter - Repost, Regram and Reshare Photos: 17694\n",
      "Weibo HD: 16772\n",
      "Repost for Instagram: 15185\n",
      "Live.me – Live Video Chat & Make Friends Nearby: 14724\n",
      "Nextdoor: 14402\n",
      "Followers Analytics for Instagram - InstaReport: 13914\n",
      "YouNow: Live Stream Video Chat: 12079\n",
      "FollowMeter for Instagram - Followers Tracking: 11976\n",
      "LINE: 11437\n",
      "eHarmony™ Dating App - Meet Singles: 11124\n",
      "Discord - Chat for Gamers: 9152\n",
      "QQ: 9109\n",
      "Telegram Messenger: 7573\n",
      "Weibo: 7265\n",
      "Periscope - Live Video Streaming Around the World: 6062\n",
      "Chat for Whatsapp - iPad Version: 5060\n",
      "QQ HD: 5058\n",
      "Followers Analysis Tool For Instagram App Free: 4253\n",
      "live.ly - live video streaming: 4145\n",
      "Houseparty - Group Video Chat: 3991\n",
      "SOMA Messenger: 3232\n",
      "Monkey: 3060\n",
      "Down To Lunch: 2535\n",
      "Flinch - Video Chat Staring Contest: 2134\n",
      "Highrise - Your Avatar Community: 2011\n",
      "LOVOO - Dating Chat: 1985\n",
      "PlayStation®Messages: 1918\n",
      "BOO! - Video chat camera with filters & stickers: 1805\n",
      "Qzone: 1649\n",
      "Chatous - Chat with new people: 1609\n",
      "Kiwi - Q&A: 1538\n",
      "GhostCodes - a discovery app for Snapchat: 1313\n",
      "Jodel: 1193\n",
      "FireChat: 1037\n",
      "Google Duo - simple video calling: 1033\n",
      "Fiesta by Tango - Chat & Meet New People: 885\n",
      "Google Allo — smart messaging: 862\n",
      "Peach — share vividly: 727\n",
      "Hey! VINA - Where Women Meet New Friends: 719\n",
      "Battlefield™ Companion: 689\n",
      "All Devices for WhatsApp - Messenger for iPad: 682\n",
      "Chat for Pokemon Go - GoChat: 500\n",
      "IAmNaughty – Dating App to Meet New People Online: 463\n",
      "Qzone HD: 458\n",
      "Zenly - Locate your friends in realtime: 427\n",
      "League of Legends Friends: 420\n",
      "豆瓣: 407\n",
      "Candid - Speak Your Mind Freely: 398\n",
      "知乎: 397\n",
      "Selfeo: 366\n",
      "Fake-A-Location Free ™: 354\n",
      "Popcorn Buzz - Free Group Calls: 281\n",
      "Fam — Group video calling for iMessage: 279\n",
      "QQ International: 274\n",
      "Ameba: 269\n",
      "SoundCloud Pulse: for creators: 240\n",
      "Tantan: 235\n",
      "Cougar Dating & Life Style App for Mature Women: 213\n",
      "Rawr Messenger - Dab your chat: 180\n",
      "WhenToPost: Best Time to Post Photos for Instagram: 158\n",
      "Inke—Broadcast an amazing life: 147\n",
      "Mustknow - anonymous video Q&A: 53\n",
      "CTFxCmoji: 39\n",
      "Lobi: 36\n",
      "Chain: Collaborate On MyVideo Story/Group Video: 35\n",
      "botman - Real time video chat: 7\n",
      "BestieBox: 0\n",
      "MATCH ON LINE chat: 0\n",
      "niconico ch: 0\n",
      "LINE BLOG: 0\n",
      "bit-tube - Live Stream Video Chat: 0\n"
     ]
    }
   ],
   "source": [
    "for app in apps_ios_free:\n",
    "    if(app[11] == 'Social Networking'): print(app[1] + ': ' + app[5])"
   ]
  },
  {
   "cell_type": "markdown",
   "id": "referenced-geometry",
   "metadata": {},
   "source": [
    "Para `Social Networking`, *Facebook* e *Pinterest* somam quase 4 milhões de avaliações, enquanto o terceiro aplicativo com mais avaliações é o *Skype for iPhone* com 373,5 mil. O nicho das redes sociais já é muito dominado por gigantes, o que tornaria um aplicativo novo muito pouco competitivo a não ser que se investisse muito nele. Então o gênero `Social Networking` está descartado."
   ]
  },
  {
   "cell_type": "code",
   "execution_count": 34,
   "id": "hearing-story",
   "metadata": {},
   "outputs": [
    {
     "name": "stdout",
     "output_type": "stream",
     "text": [
      "Pandora - Music & Radio: 1126879\n",
      "Spotify Music: 878563\n",
      "Shazam - Discover music, artists, videos & lyrics: 402925\n",
      "iHeartRadio – Free Music & Radio Stations: 293228\n",
      "SoundCloud - Music & Audio: 135744\n",
      "Magic Piano by Smule: 131695\n",
      "Smule Sing!: 119316\n",
      "TuneIn Radio - MLB NBA Audiobooks Podcasts Music: 110420\n",
      "Amazon Music: 106235\n",
      "SoundHound Song Search & Music Player: 82602\n",
      "Sonos Controller: 48905\n",
      "Bandsintown Concerts: 30845\n",
      "Karaoke - Sing Karaoke, Unlimited Songs!: 28606\n",
      "My Mixtapez Music: 26286\n",
      "Sing Karaoke Songs Unlimited with StarMaker: 26227\n",
      "Ringtones for iPhone & Ringtone Maker: 25403\n",
      "Musi - Unlimited Music For YouTube: 25193\n",
      "AutoRap by Smule: 18202\n",
      "Spinrilla - Mixtapes For Free: 15053\n",
      "Napster - Top Music & Radio: 14268\n",
      "edjing Mix:DJ turntable to remix and scratch music: 13580\n",
      "Free Music - MP3 Streamer & Playlist Manager Pro: 13443\n",
      "Free Piano app by Yokee: 13016\n",
      "Google Play Music: 10118\n",
      "Certified Mixtapes - Hip Hop Albums & Mixtapes: 9975\n",
      "TIDAL: 7398\n",
      "YouTube Music: 7109\n",
      "Nicki Minaj: The Empire: 5196\n",
      "Sounds app - Music And Friends: 5126\n",
      "SongFlip - Free Music Streamer: 5004\n",
      "Simple Radio - Live AM & FM Radio Stations: 4787\n",
      "Deezer - Listen to your Favorite Music & Playlists: 4677\n",
      "Ringtones for iPhone with Ringtone Maker: 4013\n",
      "Bose SoundTouch: 3687\n",
      "Amazon Alexa: 3018\n",
      "DatPiff: 2815\n",
      "Trebel Music - Unlimited Music Downloader: 2570\n",
      "Free Music Play - Mp3 Streamer & Player: 2496\n",
      "Acapella from PicPlayPost: 2487\n",
      "Coach Guitar - Lessons & Easy Tabs For Beginners: 2416\n",
      "Musicloud - MP3 and FLAC Music Player for Cloud Platforms.: 2211\n",
      "Piano - Play Keyboard Music Games with Magic Tiles: 1636\n",
      "Boom: Best Equalizer & Magical Surround Sound: 1375\n",
      "Music Freedom - Unlimited Free MP3 Music Streaming: 1246\n",
      "AmpMe - A Portable Social Party Music Speaker: 1047\n",
      "Medly - Music Maker: 933\n",
      "Bose Connect: 915\n",
      "Music Memos: 909\n",
      "UE BOOM: 612\n",
      "LiveMixtapes: 555\n",
      "NOISE: 355\n",
      "MP3 Music Player & Streamer for Clouds: 329\n",
      "Musical Video Maker - Create Music clips lip sync: 320\n",
      "Cloud Music Player - Downloader & Playlist Manager: 319\n",
      "Remixlive - Remix loops with pads: 288\n",
      "QQ音乐HD: 224\n",
      "Blocs Wave - Make & Record Music: 158\n",
      "PlayGround • Music At Your Fingertips: 150\n",
      "Music and Chill: 135\n",
      "The Singing Machine Mobile Karaoke App: 130\n",
      "radio.de - Der Radioplayer: 64\n",
      "Free Music -  Player & Streamer  for Dropbox, OneDrive & Google Drive: 46\n",
      "NRJ Radio: 38\n",
      "Smart Music: Streaming Videos and Radio: 17\n",
      "BOSS Tuner: 13\n",
      "PetitLyrics: 0\n"
     ]
    }
   ],
   "source": [
    "for app in apps_ios_free:\n",
    "    if(app[11] == 'Music'): print(app[1] + ': ' + app[5])"
   ]
  },
  {
   "cell_type": "markdown",
   "id": "ethical-tokyo",
   "metadata": {},
   "source": [
    "Do mesmo modo que para os anteriores, em `Music` alguns aplicativos muito populares de empresas grandes dominam a quantiade das avaliações na média, e não seria interessante criar um novo aplicativo que não teria muita competitividade no mercado. Por este motivo, a categoria `Music` também está descartada.\n",
    "\n",
    "As próximas opções seriam `Weather`, `Book`, `Food & Drink` e `Finance`. No entanto, há algumas limitações em relação a elas ao se observar o escopo do aplicativo que deseja-se desenvolver.\n",
    "\n",
    "* `Weather`: a não ser que desenvolva-se algo muito inovador no segmento de clima que prenda a atenção dos usuários (como por exemplo a junção de um *planner* com informações climáticas), este gênero não é interessante, uma vez que usuários passam pouco tempo utilizando os aplicativos de clima. Além disso, é possível que tivesse de se pagar por informações de uma API;\n",
    "* `Food & Drink`: *Domino's*, *Starbucks* e *McDonald's* são empresas que com grandes quantidades de avaliações para este gênero. Como não se deseja criar de fato uma cozinha para produção de alimentos, vamos tambémd descartar este gênero;\n",
    "* `Finance`: este poderia ser uma boa indicação em relação a tempo do usuário no aplicativo, a não ser pelo fato de que um especialista sobre finanças teria de ser contratado para o desenvolvimento do aplicativo, e esta não é a intenção.\n",
    "\n",
    "Portanto a partir da análise da amostra dos aplicativos do *App Store* mantêm-se dois gêneros possíveis: o de `Reference` e `Books`. Nesta linha, poderia ser desenvolvido um aplicativo que disponibilizasse livros de domínio público, oferecendo a opção de *audiobooks*, além de criar fóruns de discussões para que os usuários pudessem compartilhar suas impressões.\n",
    "\n",
    "Vamos agora verificar quais são os gêneros mais populares para a *Play Store*, e se este tipo de indicação funcionaria também para o *Android*."
   ]
  },
  {
   "cell_type": "markdown",
   "id": "rapid-omaha",
   "metadata": {},
   "source": [
    "#### *Play Store*\n",
    "\n",
    "A coluna `Installs` não possui números precisos em relação à quantidade de instalações realizadas para aquele determinado aplicativo, no entanto não é necessária uma grande precisão, apenas importa qual é a relação entre os diferentes aĺicativos. Neste caso, um aplicativo que tenha `1,000,000+` possui mais *downloads* do que aquele que tenha `10,000+`."
   ]
  },
  {
   "cell_type": "code",
   "execution_count": 35,
   "id": "eligible-connectivity",
   "metadata": {},
   "outputs": [
    {
     "name": "stdout",
     "output_type": "stream",
     "text": [
      "1,000,000+: 15.73%\n",
      "100,000+: 11.55%\n",
      "10,000,000+: 10.55%\n",
      "10,000+: 10.2%\n",
      "1,000+: 8.39%\n",
      "100+: 6.92%\n",
      "5,000,000+: 6.83%\n",
      "500,000+: 5.56%\n",
      "50,000+: 4.77%\n",
      "5,000+: 4.51%\n",
      "10+: 3.54%\n",
      "500+: 3.25%\n",
      "50,000,000+: 2.3%\n",
      "100,000,000+: 2.13%\n",
      "50+: 1.92%\n",
      "5+: 0.79%\n",
      "1+: 0.51%\n",
      "500,000,000+: 0.27%\n",
      "1,000,000,000+: 0.23%\n",
      "0+: 0.05%\n",
      "0: 0.01%\n"
     ]
    }
   ],
   "source": [
    "display_table(apps_android_free, 5)"
   ]
  },
  {
   "cell_type": "markdown",
   "id": "prostate-termination",
   "metadata": {},
   "source": [
    "Vamos então calcular a média de `Installs` por categoria."
   ]
  },
  {
   "cell_type": "code",
   "execution_count": 36,
   "id": "christian-alignment",
   "metadata": {},
   "outputs": [
    {
     "name": "stdout",
     "output_type": "stream",
     "text": [
      "ART_AND_DESIGN: 1986335.09\n",
      "AUTO_AND_VEHICLES: 647317.82\n",
      "BEAUTY: 513151.89\n",
      "BOOKS_AND_REFERENCE: 1437212.22\n",
      "BUSINESS: 1226918.74\n",
      "COMICS: 817657.27\n",
      "COMMUNICATION: 3603485.39\n",
      "DATING: 854028.83\n",
      "EDUCATION: 1833495.15\n",
      "ENTERTAINMENT: 6118250.0\n",
      "EVENTS: 253542.22\n",
      "FINANCE: 1086125.79\n",
      "FOOD_AND_DRINK: 1924897.74\n",
      "HEALTH_AND_FITNESS: 2005713.66\n",
      "HOUSE_AND_HOME: 1331540.56\n",
      "LIBRARIES_AND_DEMO: 638503.73\n",
      "LIFESTYLE: 1152128.78\n",
      "GAME: 6272564.69\n",
      "FAMILY: 2342897.53\n",
      "MEDICAL: 120550.62\n",
      "SOCIAL: 3084582.52\n",
      "SHOPPING: 4640920.54\n",
      "PHOTOGRAPHY: 7670532.29\n",
      "SPORTS: 2994082.55\n",
      "TRAVEL_AND_LOCAL: 2944079.63\n",
      "TOOLS: 3191461.13\n",
      "PERSONALIZATION: 2549775.83\n",
      "PRODUCTIVITY: 3379657.32\n",
      "PARENTING: 542603.62\n",
      "WEATHER: 5074486.2\n",
      "VIDEO_PLAYERS: 5544878.13\n",
      "NEWS_AND_MAGAZINES: 1502841.88\n",
      "MAPS_AND_NAVIGATION: 2484104.75\n"
     ]
    }
   ],
   "source": [
    "android_categories = freq_table(apps_android_free, 1).keys()\n",
    "\n",
    "for category in android_categories:\n",
    "    total = 0\n",
    "    len_category = 0\n",
    "    \n",
    "    for app in apps_android_free:\n",
    "        category_app = app[1]\n",
    "        if category_app == category and (app[5] != '1,000,000,000+' and app[5] != '500,000,000+' and app[5] != '100,000,000+'):\n",
    "            n_installs = float(app[5].replace('+','').replace(',',''))\n",
    "            total += n_installs\n",
    "            len_category += 1\n",
    "            \n",
    "    print(category + ': ' + str(round(total / len_category, 2)))\n",
    "    "
   ]
  },
  {
   "cell_type": "markdown",
   "id": "cheap-world",
   "metadata": {},
   "source": [
    "As categorias de aplicativos que possuem uma maior média de *downloads* e instalações são:\n",
    "\n",
    "1. COMMUNICATION\n",
    "2. VIDEO_PLAYERS\n",
    "3. SOCIAL\n",
    "4. PHOTOGRAPHY\n",
    "5. PRODUCTIVITY"
   ]
  },
  {
   "cell_type": "markdown",
   "id": "indirect-instrumentation",
   "metadata": {},
   "source": [
    "Vamos então observar mais de perto a quantidade de instalações para as categorias no Top 5 de maior média."
   ]
  },
  {
   "cell_type": "code",
   "execution_count": 37,
   "id": "bronze-jonathan",
   "metadata": {},
   "outputs": [
    {
     "name": "stdout",
     "output_type": "stream",
     "text": [
      "WhatsApp Messenger: 1,000,000,000+\n",
      "Messenger for SMS: 10,000,000+\n",
      "My Tele2: 5,000,000+\n",
      "imo beta free calls and text: 100,000,000+\n",
      "Contacts: 50,000,000+\n",
      "Call Free – Free Call: 5,000,000+\n",
      "Web Browser & Explorer: 5,000,000+\n",
      "Browser 4G: 10,000,000+\n",
      "MegaFon Dashboard: 10,000,000+\n",
      "ZenUI Dialer & Contacts: 10,000,000+\n",
      "Cricket Visual Voicemail: 10,000,000+\n",
      "TracFone My Account: 1,000,000+\n",
      "Xperia Link™: 10,000,000+\n",
      "TouchPal Keyboard - Fun Emoji & Android Keyboard: 10,000,000+\n",
      "Skype Lite - Free Video Call & Chat: 5,000,000+\n",
      "My magenta: 1,000,000+\n",
      "Android Messages: 100,000,000+\n",
      "Google Duo - High Quality Video Calls: 500,000,000+\n",
      "Seznam.cz: 1,000,000+\n",
      "Antillean Gold Telegram (original version): 100,000+\n",
      "AT&T Visual Voicemail: 10,000,000+\n",
      "GMX Mail: 10,000,000+\n",
      "Omlet Chat: 10,000,000+\n",
      "My Vodacom SA: 5,000,000+\n",
      "Microsoft Edge: 5,000,000+\n",
      "Messenger – Text and Video Chat for Free: 1,000,000,000+\n",
      "imo free video calls and chat: 500,000,000+\n",
      "Calls & Text by Mo+: 5,000,000+\n",
      "free video calls and chat: 50,000,000+\n",
      "Skype - free IM & video calls: 1,000,000,000+\n",
      "Who: 100,000,000+\n",
      "GO SMS Pro - Messenger, Free Themes, Emoji: 100,000,000+\n",
      "Messaging+ SMS, MMS Free: 1,000,000+\n",
      "chomp SMS: 10,000,000+\n",
      "Glide - Video Chat Messenger: 10,000,000+\n",
      "Text SMS: 10,000,000+\n",
      "Talkray - Free Calls & Texts: 10,000,000+\n",
      "LINE: Free Calls & Messages: 500,000,000+\n",
      "GroupMe: 10,000,000+\n",
      "mysms SMS Text Messaging Sync: 1,000,000+\n",
      "2ndLine - Second Phone Number: 1,000,000+\n",
      "Google Chrome: Fast & Secure: 1,000,000,000+\n",
      "Firefox Browser fast & private: 100,000,000+\n",
      "Ninesky Browser: 1,000,000+\n",
      "Dolphin Browser - Fast, Private & Adblock🐬: 50,000,000+\n",
      "UC Browser - Fast Download Private & Secure: 500,000,000+\n",
      "Ghostery Privacy Browser: 1,000,000+\n",
      "InBrowser - Incognito Browsing: 1,000,000+\n",
      "Lightning Web Browser: 500,000+\n",
      "Web Browser: 500,000+\n",
      "Contacts+: 10,000,000+\n",
      "ExDialer - Dialer & Contacts: 10,000,000+\n",
      "PHONE for Google Voice & GTalk: 1,000,000+\n",
      "Safest Call Blocker: 1,000,000+\n",
      "Full Screen Caller ID: 5,000,000+\n",
      "Hiya - Caller ID & Block: 10,000,000+\n",
      "Mr. Number-Block calls & spam: 10,000,000+\n",
      "Should I Answer?: 1,000,000+\n",
      "RocketDial Dialer & Contacts: 1,000,000+\n",
      "CIA - Caller ID & Call Blocker: 5,000,000+\n",
      "Calls Blacklist - Call Blocker: 10,000,000+\n",
      "Call Control - Call Blocker: 5,000,000+\n",
      "True Contact - Real Caller ID: 1,000,000+\n",
      "Video Caller Id: 1,000,000+\n",
      "Sync.ME – Caller ID & Block: 5,000,000+\n",
      "Burner - Free Phone Number: 1,000,000+\n",
      "Caller ID +: 1,000,000+\n",
      "Gmail: 1,000,000,000+\n",
      "K-9 Mail: 5,000,000+\n",
      "myMail – Email for Hotmail, Gmail and Outlook Mail: 10,000,000+\n",
      "Email TypeApp - Mail App: 1,000,000+\n",
      "All Email Providers: 1,000,000+\n",
      "Newton Mail - Email App for Gmail, Outlook, IMAP: 1,000,000+\n",
      "GO Notifier: 10,000,000+\n",
      "Mail.Ru - Email App: 50,000,000+\n",
      "Mail1Click - Secure Mail: 10,000+\n",
      "Daum Mail - Next Mail: 5,000,000+\n",
      "mail.com mail: 1,000,000+\n",
      "SolMail - All-in-One email app: 500,000+\n",
      "Hangouts: 1,000,000,000+\n",
      "Vonage Mobile® Call Video Text: 1,000,000+\n",
      "JusTalk - Free Video Calls and Fun Video Chat: 5,000,000+\n",
      "Azar: 50,000,000+\n",
      "LokLok: Draw on a Lock Screen: 500,000+\n",
      "Discord - Chat for Gamers: 10,000,000+\n",
      "Messenger Lite: Free Calls & Messages: 100,000,000+\n",
      "AntennaPict β: 1,000,000+\n",
      "Talkatone: Free Texts, Calls & Phone Number: 10,000,000+\n",
      "Kik: 100,000,000+\n",
      "K-@ Mail - Email App: 100,000+\n",
      "KakaoTalk: Free Calls & Text: 100,000,000+\n",
      "K-9 Material (unofficial): 5,000+\n",
      "M star Dialer: 100,000+\n",
      "Free WiFi Connect: 10,000,000+\n",
      "m:go BiH: 10,000+\n",
      "N-Com Wizard: 50,000+\n",
      "Opera Mini - fast web browser: 100,000,000+\n",
      "Opera Browser: Fast and Secure: 100,000,000+\n",
      "Opera Mini browser beta: 10,000,000+\n",
      "Psiphon Pro - The Internet Freedom VPN: 10,000,000+\n",
      "ICQ — Video Calls & Chat Messenger: 10,000,000+\n",
      "Telegram: 100,000,000+\n",
      "AT&T Messages for Tablet: 1,000,000+\n",
      "T-Mobile DIGITS: 100,000+\n",
      "Truecaller: Caller ID, SMS spam blocking & Dialer: 100,000,000+\n",
      "Portable Wi-Fi hotspot: 10,000,000+\n",
      "AT&T Call Protect: 5,000,000+\n",
      "U - Webinars, Meetings & Messenger: 500,000+\n",
      "UC Browser Mini -Tiny Fast Private & Secure: 100,000,000+\n",
      "/u/app: 10,000+\n",
      "[verify-U] VideoIdent: 10,000+\n",
      "Viber Messenger: 500,000,000+\n",
      "WeChat: 100,000,000+\n",
      "WhatsApp Business: 10,000,000+\n",
      "WhatsCall Free Global Phone Call App & Cheap Calls: 10,000,000+\n",
      "X Browser: 50,000+\n",
      "Yahoo Mail – Stay Organized: 100,000,000+\n",
      "Free Adblocker Browser - Adblock & Popup Blocker: 10,000,000+\n",
      "Adblock Browser for Android: 10,000,000+\n",
      "CM Browser - Ad Blocker , Fast Download , Privacy: 50,000,000+\n",
      "Adblock Plus for Samsung Internet - Browse safe.: 1,000,000+\n",
      "Ad Blocker Turbo - Adblocker Browser: 10,000+\n",
      "Brave Browser: Fast AdBlocker: 5,000,000+\n",
      "AG Contacts, Lite edition: 5,000+\n",
      "Oklahoma Ag Co-op Council: 10+\n",
      "Bee'ah Employee App: 100+\n",
      "tournaments and more.aj.2: 100+\n",
      "Aj.Petra: 100+\n",
      "AK Phone: 5,000+\n",
      "PlacarTv Futebol Ao Vivo: 100,000+\n",
      "WiFi Access Point (hotspot): 100,000+\n",
      "Access Point Names: 10,000+\n",
      "Puffin Web Browser: 10,000,000+\n",
      "ClanHQ: 10,000+\n",
      "Ear Agent: Super Hearing: 5,000,000+\n",
      "Google Voice: 10,000,000+\n",
      "Google Allo: 10,000,000+\n",
      "AU Call Blocker - Block Unwanted Calls Texts 2018: 1,000+\n",
      "Baby Monitor AV: 100,000+\n",
      "AV Phone: 1,000+\n",
      "AW - free video calls and chat: 1,000,000+\n",
      "Katalogen.ax: 100+\n",
      "AZ Browser. Private & Download: 100,000+\n",
      "BA SALES: 1+\n",
      "BD Data Plan (3G & 4G): 500,000+\n",
      "BD Internet Packages (Updated): 50,000+\n",
      "BD Dialer: 10,000+\n",
      "BD Live Call: 5,000+\n",
      "Best Browser BD social networking: 10+\n",
      "Traffic signs BD: 500+\n",
      "BF Browser by Betfilter - Stop Gambling Today!: 10,000+\n",
      "My BF App: 50,000+\n",
      "BH Mail: 1,000+\n",
      "Zalo – Video Call: 50,000,000+\n",
      "BJ - Confidential: 10+\n",
      "BK Chat: 1,000+\n",
      "Of the wall Arapaho bk: 5+\n",
      "AC-BL: 50+\n",
      "BBM - Free Calls & Messages: 100,000,000+\n",
      "DMR BrandMeister Tool: 10,000+\n",
      "BBMoji - Your personalized BBM Stickers: 1,000,000+\n",
      "BN MALLORCA Radio: 1,000+\n",
      "BQ Partners: 1,000+\n",
      "BS-Mobile: 50+\n",
      "ATC Unico BS: 500+\n",
      "BT One Voice mobile access: 5,000+\n",
      "BT Messenger: 50,000+\n",
      "BT One Phone Mobile App: 10,000+\n",
      "SW-100.tch by Callstel: 1,000,000+\n",
      "BT MeetMe with Dolby Voice: 100,000+\n",
      "Bluetooth Auto Connect: 5,000,000+\n",
      "AudioBT: BT audio GPS/SMS/Text: 50,000+\n",
      "BV: 100+\n",
      "Feel Performer: 10,000+\n",
      "Tiny Call Confirm: 1,000,000+\n",
      "CB Radio Chat - for friends!: 1,000,000+\n",
      "CB On Mobile: 100,000+\n",
      "Virtual Walkie Talkie: 1,000,000+\n",
      "Channel 19: 100,000+\n",
      "Cb browser: 50+\n",
      "CF Chat: Connecting Friends: 100+\n",
      "retteMi.ch: 5,000+\n",
      "Chrome Dev: 5,000,000+\n",
      "CJ Browser - Fast & Private: 100+\n",
      "CJ DVD Rentals: 100+\n",
      "CK Call NEW: 10+\n",
      "CM Transfer - Share any files with friends nearby: 5,000,000+\n",
      "mail.co.uk Mail: 5,000+\n",
      "ClanPlay: Community and Tools for Gamers: 1,000,000+\n",
      "CQ-Mobile: 1,000+\n",
      "CQ-Alert: 500+\n",
      "QRZ Assistant: 100,000+\n",
      "Pocket Prefix Plus: 10,000+\n",
      "Ham Radio Prefixes: 10,000+\n",
      "CS Customizer: 1,000+\n",
      "CS Browser | #1 & BEST BROWSER: 1,000+\n",
      "CS Browser Beta: 5,000+\n",
      "My Vodafone (GR): 1,000,000+\n",
      "IZ2UUF Morse Koch CW: 50,000+\n",
      "C W Browser: 100+\n",
      "CW Bluetooth SPP: 100+\n",
      "CW BLE Peripheral Simulator: 500+\n",
      "Morse Code Reader: 100,000+\n",
      "Learn Morse Code - G0HYN Learn Morse: 5,000+\n",
      "Ring: 10,000+\n",
      "Hyundai CX Conference: 50+\n",
      "Cy Messenger: 100+\n",
      "Amadeus GR & CY: 100+\n",
      "Hlášenírozhlasu.cz: 10+\n",
      "SMS Sender - sluzba.cz: 1,000+\n",
      "WEB.DE Mail: 10,000,000+\n",
      "Your Freedom VPN Client: 5,000,000+\n",
      "CallApp: Caller ID, Blocker & Phone Call Recorder: 10,000,000+\n",
      "Rádio Sol Nascente DF: 500+\n",
      "DG Card: 100+\n",
      "Whoscall - Caller ID & Block: 10,000,000+\n",
      "DK Browser: 10+\n",
      "cluster.dk: 1,000+\n",
      "DK TEL Dialer: 50+\n",
      "DM for WhatsApp: 5,000+\n",
      "DM Talk New: 5,000+\n",
      "DM - The Offical Messaging App: 10+\n",
      "DM Tracker: 1,000+\n",
      "Call Blocker & Blacklist: 1,000+\n",
      "ReadyOp DT: 1,000+\n",
      "DU Browser—Browse fast & fun: 10,000,000+\n",
      "Caller ID & Call Block - DU Caller: 5,000,000+\n",
      "BlueDV AMBE: 1,000+\n",
      "DW Contacts & Phone & Dialer: 1,000,000+\n",
      "Deaf World DW: 10,000+\n",
      "Ham DX Cluster & Spots Finder: 5,000+\n",
      "Mircules DX Cluster Lite: 5,000+\n",
      "3G DZ Configuration: 50,000+\n",
      "chat dz: 100+\n",
      "love sms good morning: 5,000+\n",
      "Goodbox - Mega App: 100,000+\n",
      "Call Blocker - Blacklist, SMS Blocker: 1,000,000+\n",
      "[EF]ShoutBox: 100+\n",
      "Eg Call: 10,000+\n",
      "ei: 10+\n",
      "EJ messenger: 10+\n",
      "Ek IRA: 10+\n",
      "Orfox: Tor Browser for Android: 10,000,000+\n",
      "EO Mumbai: 10+\n",
      "EP RSS Reader: 100+\n",
      "Voxer Walkie Talkie Messenger: 10,000,000+\n",
      "ES-1: 500+\n",
      "Hangouts Dialer - Call Phones: 10,000,000+\n",
      "EU Council: 1,000+\n",
      "Council Voting Calculator: 5,000+\n",
      "Have your say on Europe: 500+\n",
      "Programi podrške EU: 100+\n",
      "Inbox.eu: 10,000+\n",
      "Web Browser for Android: 1,000,000+\n",
      "Everbridge: 100,000+\n",
      "Best Auto Call Recorder Free: 500+\n",
      "EZ Wifi Notification: 10,000+\n",
      "Test Server SMS FA: 5+\n",
      "Lite for Facebook Messenger: 1,000,000+\n",
      "FC Browser - Focus Privacy Browser: 1,000+\n",
      "EHiN-FH conferenceapp: 100+\n",
      "Carpooling FH Hagenberg: 100+\n",
      "Wi-Fi Auto-connect: 1,000,000+\n",
      "Talkie - Wi-Fi Calling, Chats, File Sharing: 500,000+\n",
      "WeFi - Free Fast WiFi Connect & Find Wi-Fi Map: 1,000,000+\n",
      "Sat-Fi: 5,000+\n",
      "Portable Wi-Fi hotspot Free: 100,000+\n",
      "TownWiFi | Wi-Fi Everywhere: 500,000+\n",
      "Jazz Wi-Fi: 10,000+\n",
      "Sat-Fi Voice: 1,000+\n",
      "Free Wi-fi HotspoT: 50,000+\n",
      "FN Web Radio: 10+\n",
      "FNH Payment Info: 10+\n",
      "MARKET FO: 100+\n",
      "FO OP St-Nazaire: 100+\n",
      "FO SODEXO: 100+\n",
      "FO RCBT: 100+\n",
      "FO Interim: 100+\n",
      "FO PSA Sept-Fons: 100+\n",
      "FO AIRBUS TLSE: 1,000+\n",
      "FO STELIA Méaulte: 100+\n",
      "FO AIRBUS Nantes: 100+\n",
      "Firefox Focus: The privacy browser: 1,000,000+\n",
      "FP Connect: 100+\n",
      "FreedomPop Messaging Phone/SIM: 500,000+\n",
      "FP Live: 10+\n",
      "HipChat - beta version: 50,000+\n"
     ]
    }
   ],
   "source": [
    "for app in apps_android_free:\n",
    "    if(app[1] == 'COMMUNICATION'): print(app[0] + ': ' + app[5])"
   ]
  },
  {
   "cell_type": "markdown",
   "id": "anonymous-breakfast",
   "metadata": {},
   "source": [
    "Para a categoria `COMMUNICATION` podemos observar que a média foi puxada para cima por conta de gigantes como *Whatsapp*, *Gmail* e *Skype*, que dominam o mercado."
   ]
  },
  {
   "cell_type": "code",
   "execution_count": 38,
   "id": "descending-brake",
   "metadata": {},
   "outputs": [
    {
     "name": "stdout",
     "output_type": "stream",
     "text": [
      "YouTube: 1,000,000,000+\n",
      "All Video Downloader 2018: 1,000,000+\n",
      "Video Downloader: 10,000,000+\n",
      "HD Video Player: 1,000,000+\n",
      "Iqiyi (for tablet): 1,000,000+\n",
      "Video Player All Format: 10,000,000+\n",
      "Motorola Gallery: 100,000,000+\n",
      "Free TV series: 100,000+\n",
      "Video Player All Format for Android: 500,000+\n",
      "VLC for Android: 100,000,000+\n",
      "Code: 10,000,000+\n",
      "Vote for: 50,000,000+\n",
      "XX HD Video downloader-Free Video Downloader: 1,000,000+\n",
      "OBJECTIVE: 1,000,000+\n",
      "Music - Mp3 Player: 10,000,000+\n",
      "HD Movie Video Player: 1,000,000+\n",
      "YouCut - Video Editor & Video Maker, No Watermark: 5,000,000+\n",
      "Video Editor,Crop Video,Movie Video,Music,Effects: 1,000,000+\n",
      "YouTube Studio: 10,000,000+\n",
      "video player for android: 10,000,000+\n",
      "Vigo Video: 50,000,000+\n",
      "Google Play Movies & TV: 1,000,000,000+\n",
      "HTC Service － DLNA: 10,000,000+\n",
      "VPlayer: 1,000,000+\n",
      "MiniMovie - Free Video and Slideshow Editor: 50,000,000+\n",
      "Samsung Video Library: 50,000,000+\n",
      "OnePlus Gallery: 1,000,000+\n",
      "LIKE – Magic Video Maker & Community: 50,000,000+\n",
      "HTC Service—Video Player: 5,000,000+\n",
      "Play Tube: 1,000,000+\n",
      "Droid Zap by Motorola: 5,000,000+\n",
      "video player: 1,000,000+\n",
      "G Guide Program Guide (SOFTBANK EMOBILE WILLCOM version): 1,000,000+\n",
      "Video.Guru - Video Maker: 1,000,000+\n",
      "HTC Gallery: 10,000,000+\n",
      "PowerDirector Video Editor App: 4K, Slow Mo & More: 10,000,000+\n",
      "Cartoon Network App: 10,000,000+\n",
      "Video Status: 1,000,000+\n",
      "Video Wallpaper Show: 500+\n",
      "SVT Play: 1,000,000+\n",
      "BluTV: 1,000,000+\n",
      "Tencent Video - Supporting the whole network: 1,000,000+\n",
      "Casper Ssinema: 10,000+\n",
      "amazer - Global Kpop Video Community: 100,000+\n",
      "MX Player: 500,000,000+\n",
      "Video Editor: 5,000,000+\n",
      "Omlet Arcade - Stream, Meet, Play: 10,000,000+\n",
      "VUE: video editor & camcorder: 1,000,000+\n",
      "Magisto Video Editor & Maker: 10,000,000+\n",
      "Dubsmash: 100,000,000+\n",
      "DU Recorder – Screen Recorder, Video Editor, Live: 50,000,000+\n",
      "KineMaster – Pro Video Editor: 50,000,000+\n",
      "Mobizen Screen Recorder for SAMSUNG: 10,000,000+\n",
      "Mobizen Screen Recorder for LG - Record, Capture: 1,000,000+\n",
      "M-Sight Pro: 5,000+\n",
      "Sketch 'n' go: 100,000+\n",
      "Q-See Plus: 5,000+\n",
      "Ustream: 10,000,000+\n",
      "VMate: 50,000,000+\n",
      "All Video Downloader: 10,000,000+\n",
      "VidPlay: 1,000,000+\n",
      "HD Video Downloader : 2018 Best video mate: 50,000,000+\n",
      "VivaVideo - Video Editor & Photo Movie: 100,000,000+\n",
      "VideoShow-Video Editor, Video Maker, Beauty Camera: 100,000,000+\n",
      "W Box VMS: 10,000+\n",
      "W Box VMS HD: 5,000+\n",
      "AB Repeat Player: 100,000+\n",
      "A-B repeater: 5,000+\n",
      "Ez Screen Recorder (no ad): 100,000+\n",
      "Adobe Premiere Clip: 5,000,000+\n",
      "FilmoraGo - Free Video Editor: 10,000,000+\n",
      "ActionDirector Video Editor - Edit Videos Fast: 5,000,000+\n",
      "AJ Player: 100+\n",
      "AK Lodi Films: 100+\n",
      "WiFi Baby Monitor - NannyCam: 5,000,000+\n",
      "Ringdroid: 50,000,000+\n",
      "Multiple Videos at Same Time: 1,000,000+\n",
      "AV-IPTV: 1,000+\n",
      "HD Video Player (wmv,avi,mp4,flv,av,mpg,mkv)2017: 10,000+\n",
      "HD Video Player - Video & MP3 Player | AV Player |: 5,000+\n",
      "EML UPnP-AV Control Point: 10,000+\n",
      "AW Screen Recorder No Root: 100,000+\n",
      "AX Player -Nougat Video Player: 1,000,000+\n",
      "AX Video Player: 50,000+\n",
      "Ay: 5,000+\n",
      "Ay Sabz Gunbad Waly: 1,000+\n",
      "iMediaShare – Photos & Music: 10,000,000+\n",
      "AZ Screen Recorder - No Root: 10,000,000+\n",
      "Movie Downloader Torrent : Az Torrent: 1,000+\n",
      "A-Z Screen Recorder -: 500+\n",
      "BC iptv player: 1,000+\n",
      "Bc Vod: 100+\n",
      "Funny videos for whatsapp: 1,000,000+\n",
      "BG video - floating video - background video: 5,000+\n",
      "BG MUSIC PLAYER - MUSIC PLAYER: 100+\n",
      "bgtime.tv: 50,000+\n",
      "YourTube Video Views BG: 500+\n",
      "Music for Youtube - Tube Music BG, Red+: 1,000+\n",
      "BGCN TV: 100,000+\n",
      "AfreecaTV: 10,000,000+\n",
      "BK News Channel: 10,000+\n",
      "BR Video Player: 5,000+\n",
      "BR Series: 50,000+\n",
      "CINE BR: 1,000+\n",
      "iPlayIT for YouTube VR Player: 1,000,000+\n",
      "BSPlayer FREE: 10,000,000+\n",
      "BSPlayer ARMv7 VFP CPU support: 1,000,000+\n",
      "BS player remote: 10,000+\n",
      "BitTorrent®- Torrent Downloads: 10,000,000+\n",
      "Bx-WiFi-GI: 100+\n",
      "BZ Langenthaler Tagblatt: 1,000+\n",
      "Nero AirBurn: 100,000+\n",
      "CI Stream: 10+\n",
      "CJ Camcorder: 500+\n",
      "CJ VLC HD Remote (+ Stream): 500,000+\n",
      "ACTIVEON CX & CX GOLD: 50,000+\n",
      "CX Monthly Tech News: 500+\n",
      "DG UPnP Player Free: 10,000+\n",
      "DG Screen Recorder: 500+\n",
      "DG Video Editor: 10,000+\n",
      "Video Downloader - for Instagram Repost App: 10,000,000+\n",
      "Quik – Free Video Editor for photos, clips, music: 10,000,000+\n",
      "FrostWire: Torrent Downloader & Music Player: 10,000,000+\n",
      "Inst Download - Video & Photo: 10,000,000+\n",
      "Vuze Torrent Downloader: 1,000,000+\n",
      "AndStream - Streaming Download: 1,000,000+\n",
      "DR TV: 500,000+\n",
      "DS photo: 1,000,000+\n",
      "DS video: 1,000,000+\n",
      "DU Privacy-hide apps、sms、file: 1,000,000+\n",
      "iSmart DV: 1,000,000+\n",
      "dv Prompter: 50,000+\n",
      "DV Lottery Photo: 5,000+\n",
      "MelifeCam-M: 10,000+\n",
      "GoPlus Cam: 500,000+\n",
      "GoAction: 100,000+\n",
      "4K VIDEO PLAYER ULTRA HD: 5,000+\n",
      "Downvids Helper - One touch DW: 10,000+\n",
      "DZ Popup Video Player: 5,000+\n",
      "EC MANAGER: 100+\n",
      "EF Sidekick: 5,000+\n",
      "ek tuhi: 10,000+\n",
      "Naruto Shippuden - Watch Free!: 10,000,000+\n",
      "ES Audio Player ( Shortcut ): 100,000+\n",
      "Furrion ES Control: 5,000+\n",
      "ES-IPTV: 50,000+\n",
      "EZCast – Cast Media to TV: 1,000,000+\n",
      "EZ Web Video Cast | Chromecast: 100,000+\n",
      "EZ-SEE: 10,000+\n",
      "EZ TV Player: 10,000+\n",
      "EZ Usenet for Easynews®: 10,000+\n",
      "EZ game screen recorder with audio 1080P: 1,000+\n",
      "Videos downloader for Facebook:fast fb video saver: 5,000+\n",
      "Video Downloader for FB : Video Download with Link: 100,000+\n",
      "HD VideoDownlaoder For Fb : XXVideo Downloader: 10,000+\n",
      "HD Video Download for Facebook: 1,000,000+\n",
      "Art of F J Taylor: 10+\n",
      "Motorola FM Radio: 100,000,000+\n",
      "List iptv FR: 100+\n"
     ]
    }
   ],
   "source": [
    "for app in apps_android_free:\n",
    "    if(app[1] == 'VIDEO_PLAYERS'): print(app[0] + ': ' + app[5])"
   ]
  },
  {
   "cell_type": "markdown",
   "id": "imperial-court",
   "metadata": {},
   "source": [
    "Podemos observar o mesmo para a categoria de `VIDEO_PLAYERS`, que é dominada pelo *YouTube* e pelo *Google Play Movies*."
   ]
  },
  {
   "cell_type": "code",
   "execution_count": 39,
   "id": "understood-father",
   "metadata": {},
   "outputs": [
    {
     "name": "stdout",
     "output_type": "stream",
     "text": [
      "Facebook: 1,000,000,000+\n",
      "Facebook Lite: 500,000,000+\n",
      "Tumblr: 100,000,000+\n",
      "Social network all in one 2018: 100,000+\n",
      "Pinterest: 100,000,000+\n",
      "TextNow - free text + calls: 10,000,000+\n",
      "Google+: 1,000,000,000+\n",
      "The Messenger App: 1,000,000+\n",
      "Messenger Pro: 1,000,000+\n",
      "Free Messages, Video, Chat,Text for Messenger Plus: 1,000,000+\n",
      "Telegram X: 5,000,000+\n",
      "The Video Messenger App: 100,000+\n",
      "Jodel - The Hyperlocal App: 1,000,000+\n",
      "Hide Something - Photo, Video: 5,000,000+\n",
      "Love Sticker: 1,000,000+\n",
      "Web Browser & Fast Explorer: 5,000,000+\n",
      "LiveMe - Video chat, new friends, and make money: 10,000,000+\n",
      "VidStatus app - Status Videos & Status Downloader: 5,000,000+\n",
      "Love Images: 1,000,000+\n",
      "Web Browser ( Fast & Secure Web Explorer): 500,000+\n",
      "SPARK - Live random video chat & meet new people: 5,000,000+\n",
      "Golden telegram: 50,000+\n",
      "Facebook Local: 1,000,000+\n",
      "Meet – Talk to Strangers Using Random Video Chat: 5,000,000+\n",
      "MobilePatrol Public Safety App: 1,000,000+\n",
      "💘 WhatsLov: Smileys of love, stickers and GIF: 1,000,000+\n",
      "HTC Social Plugin - Facebook: 10,000,000+\n",
      "Quora: 10,000,000+\n",
      "Kate Mobile for VK: 10,000,000+\n",
      "Family GPS tracker KidControl + GPS by SMS Locator: 1,000,000+\n",
      "Moment: 1,000,000+\n",
      "Text Me: Text Free, Call Free, Second Phone Number: 10,000,000+\n",
      "Text Free: WiFi Calling App: 5,000,000+\n",
      "Badoo - Free Chat & Dating App: 100,000,000+\n",
      "Text free - Free Text + Call: 10,000,000+\n",
      "Tango - Live Video Broadcast: 100,000,000+\n",
      "ooVoo Video Calls, Messaging & Stories: 50,000,000+\n",
      "Whisper: 5,000,000+\n",
      "Blogger: 5,000,000+\n",
      "Bloglovin': 500,000+\n",
      "Blogaway for Android (Blogger): 100,000+\n",
      "Instagram: 1,000,000,000+\n",
      "TwitCasting Live: 1,000,000+\n",
      "Stream - Live Video Community: 500,000+\n",
      "YouNow: Live Stream Video Chat: 10,000,000+\n",
      "Mirrativ: Live Stream Any App: 500,000+\n",
      "Snapchat: 500,000,000+\n",
      "Banjo: 1,000,000+\n",
      "We Heart It: 10,000,000+\n",
      "MeetMe: Chat & Meet New People: 50,000,000+\n",
      "Timehop: 5,000,000+\n",
      "Frontback - Social Photos: 1,000,000+\n",
      "LinkedIn: 100,000,000+\n",
      "Path: 10,000,000+\n",
      "SayHi Chat, Meet New People: 10,000,000+\n",
      "Tapatalk - 100,000+ Forums: 10,000,000+\n",
      "Couple - Relationship App: 1,000,000+\n",
      "Nextdoor - Local neighborhood news & classifieds: 5,000,000+\n",
      "LOVOO: 10,000,000+\n",
      "Jaumo Dating, Flirt & Live Video: 10,000,000+\n",
      "Patook - make platonic friends: 100,000+\n",
      "Zello PTT Walkie Talkie: 50,000,000+\n",
      "textPlus: Free Text & Calls: 10,000,000+\n",
      "magicApp Calling & Messaging: 10,000,000+\n",
      "Dating App, Flirt & Chat : W-Match: 10,000,000+\n",
      "uCiC- Videos and Photos on demand: 100,000+\n",
      "Meetup: 5,000,000+\n",
      "POF Free Dating App: 50,000,000+\n",
      "Tagged - Meet, Chat & Dating: 10,000,000+\n",
      "SKOUT - Meet, Chat, Go Live: 50,000,000+\n",
      "Mico- Stranger Chat Random video Chat, Live, Meet: 10,000,000+\n",
      "Waplog - Free Chat, Dating App, Meet Singles: 10,000,000+\n",
      "Tik Tok - including musical.ly: 100,000,000+\n",
      "B-Messenger Video Chat: 1,000,000+\n",
      "BIGO LIVE - Live Stream: 100,000,000+\n",
      "Greeting Cards & Wishes: 500,000+\n",
      "Share G - Images Sharing - Wallpapers App: 10,000+\n",
      "H letter images: 1,000+\n",
      "Instachat 😜: 5,000,000+\n",
      "Fame Boom for Real Followers, Likes: 5,000,000+\n",
      "FollowMeter for Instagram: 1,000,000+\n",
      "Mali J: 10,000+\n",
      "KDRAMA Amino for K-Drama Fans: 100,000+\n",
      "KPOP Amino for K-Pop Entertainment: 100,000+\n",
      "EXO-L Amino for EXO Fans: 50,000+\n",
      "Verdad o Reto: 500,000+\n",
      "pixiv: 1,000,000+\n",
      "Join R, Community Engagement: 1,000+\n",
      "U LIVE – Video Chat & Stream: 1,000,000+\n",
      "See U - Random video chat, video chat: 100,000+\n",
      "What U See: 100,000+\n",
      "U-Report: 10,000+\n",
      "Meet U - Get Friends for Snapchat, Kik & Instagram: 100,000+\n",
      "VMate Lite - Funny Short Videos Social Network: 1,000,000+\n",
      "V Bucks ProTips New: 1,000+\n",
      "i-share AF/KLM (AFKL ishare): 100+\n",
      "Eternal Light AG: 100+\n",
      "Message AI - Write Better Messages (Free): 100+\n",
      "Jamaa Amino for Animal Jam: 10,000+\n",
      "Legend - Animate Text in Video: 10,000,000+\n",
      "GUYZ - Gay Chat & Gay Dating: 1,000,000+\n",
      "eChallan Andhra Pradesh (AP): 1,000+\n",
      "Snaappy – 3D fun AR core communication platform: 1,000,000+\n",
      "Undertale AU Amino: 50,000+\n",
      "Au Pair: 10,000+\n",
      "Media Sosial TNI AU: 1,000+\n",
      "BA 3 Banjarmasin: 10+\n",
      "iCard BD Plus: 500+\n",
      "Movement BE: 100+\n",
      "YAY - TBH: 100,000+\n",
      "Find My Friends: 10,000,000+\n",
      "BG LINKED (BGLINKED): 1,000+\n",
      "Zdravei.BG: 1,000+\n",
      "BGKontakti London BG Kontakti: 500+\n",
      "BGKontakti Bayern BG Kontakti: 1,000+\n",
      "BGKontakti Vienna BG Kontakti: 1,000+\n",
      "Discípulos em BH: 100+\n",
      "BH Connect: 1+\n",
      "Gayvox - Gay Lesbian Bi Dating: 500,000+\n",
      "Grindr - Gay chat: 10,000,000+\n",
      "Lesbian Chat & Dating - SPICY: 1,000,000+\n",
      "Alumni BJ: 100+\n",
      "VK: 100,000,000+\n",
      "BK Traffic Control cum Chart: 10,000+\n",
      "Daily Murli Saar Widget: 10,000+\n",
      "Myjob@BM: 100+\n",
      "bm-Events: 10+\n",
      "BOO! - Next Generation Messenger: 1,000,000+\n",
      "Wishbone - Compare Anything: 1,000,000+\n",
      "BR Chat Bot: 1,000+\n",
      "Br Browser: 500+\n",
      "Dr B R Ambedkar (Jai Bhim): 100,000+\n",
      "Dr. B.R.Ambedkar: 100,000+\n",
      "Black Social: 1,000+\n",
      "BT Communicator: 10,000+\n",
      "BT Dating -Find your match, help cupid, be social: 50,000+\n",
      "Fiesta by Tango - Find, Meet and Make New Friends: 1,000,000+\n",
      "Evasion.bz: 100+\n",
      "CB Heroes: 5+\n",
      "CG Districts: 1,000+\n",
      "Digi-TV.ch: 10,000+\n",
      "Students.ch: 1,000+\n",
      "CJ Gospel Hour: 100+\n",
      "Pekalongan CJ: 0+\n",
      "Hashtags For Likes.co: 50,000+\n",
      "CP Dialer: 50,000+\n",
      "C.P. CERVANTES (TOBARRA): 5+\n",
      "Cyprus Police: 10,000+\n",
      "Rande.cz: 50,000+\n",
      "signály.cz: 1,000+\n",
      "DB Event App: 5,000+\n",
      "DC Comics Amino: 1,000+\n",
      "DF BugMeNot: 500+\n",
      "Noticias DF: 1,000+\n",
      "Periscope - Live Video: 10,000,000+\n",
      "Daddyhunt: Gay Dating: 500,000+\n",
      "Free phone calls, free texting SMS on free number: 10,000,000+\n",
      "Phone Tracker : Family Locator: 10,000,000+\n",
      "HOLLA Live: Meet New People via Random Video Chat: 5,000,000+\n",
      "Dating.dk: 100,000+\n",
      "DK Murali: 500+\n",
      "GirlTalk.dk: 100+\n",
      "+Download 4 Instagram Twitter: 1,000,000+\n",
      "DM Me - Chat: 10,000+\n",
      "DM for IG 😘 - Image & Video Saver for Instagram: 5,000+\n",
      "Auto DM for Twitter 🔥: 1,000+\n",
      "DM Storage (for twitter): 100+\n",
      "Fake Chat (Direct Message): 500,000+\n",
      "Otto DM: 10+\n",
      "DN Blog: 10+\n",
      "DP and Status for WhatsApp 2018: 100,000+\n",
      "Dp For Whatsapp: 5,000+\n",
      "Profile Pictures and DP for Whatsapp: 5,000+\n",
      "Dp for Facebook: 5,000+\n",
      "Best DP and Status: 10,000+\n",
      "Instant DP Downloader for Instagram: 5,000+\n",
      "DP Display Pictures Life Quotes Motivational GM: 5,000+\n",
      "Qeek for Instagram - Zoom profile insta DP: 500,000+\n",
      "DV Statistics: 100+\n",
      "DW Streaming: 1,000+\n",
      "News Dz: 10+\n",
      "quran-DZ: 10+\n",
      "TN e Sevai TN EB Bill Patta Citta EC Birth All Hub: 5,000+\n",
      "TNEB Bill Online Payment (Tamil): 5,000+\n",
      "UP EB Bill Payment & Details: 50+\n",
      "TN EC Online New: 1,000+\n",
      "TN Patta /Chitta /EC New: 100+\n",
      "EG Way Life: 50+\n",
      "Equestria Amino for MLP: 50,000+\n",
      "Ek Maratha: 10,000+\n",
      "Hum Ek Hain 2.02: 10+\n",
      "Sabka Malik Ek Sai: 1,000+\n",
      "EO RAIPUR: 10+\n",
      "Anime et Manga Amino en Français: 50,000+\n",
      "Hornet - Gay Social Network: 5,000,000+\n",
      "Amino: Communities and Chats: 10,000,000+\n",
      "European Solidarity Corps: 1,000+\n",
      "Reisedealz.eu: 10+\n",
      "Eddsworld Amino: 10,000+\n",
      "Rejoin Your Ex: 100+\n",
      "Amleen Ey: 1+\n",
      "Coupe Adhémar EY 2017: 50+\n",
      "EZ Video Download for Facebook: 1,000,000+\n",
      "Messages, Text and Video Chat for Messenger: 10,000,000+\n",
      "All Social Networks: 1,000,000+\n",
      "Messenger Messenger: 10,000,000+\n",
      "Facebook Creator: 1,000,000+\n",
      "Swift for Facebook Lite: 500,000+\n",
      "Friendly for Facebook: 1,000,000+\n",
      "Faster for Facebook Lite: 1,000,000+\n",
      "Puffin for Facebook: 500,000+\n",
      "Profile Tracker - Who Viewed My Facebook Profile: 500,000+\n",
      "Pink Color for Facebook: 500,000+\n",
      "Messenger: 10,000,000+\n",
      "Stickers for Imo, fb, whatsapp: 10,000+\n",
      "Who Viewed My Facebook Profile - Stalkers Visitors: 5,000,000+\n",
      "Downloader plus for FB: 500+\n",
      "MB Notifications for FB (Free): 100,000+\n",
      "Phoenix - Facebook & Messenger: 100,000+\n",
      "Faster Social for Facebook: 100,000+\n",
      "Check Your Visitors on FB ?: 5,000+\n",
      "Stickers for Facebook: 1,000,000+\n",
      "Lite Messenger for Facebook Lite: 10,000+\n",
      "Mini for Facebook lite: 10,000+\n",
      "FB Advanced Search: 50+\n",
      "funny Image Comments for FB: 5,000+\n",
      "Unlimited Group Links - Whatsapp, FB, Telegram: 10,000+\n",
      "FCB Connect - FC Barcelona: 50,000+\n",
      "Frases Cristianas de Esperanza y Fe: 100+\n",
      "FutureNet your social app: 100,000+\n",
      "Alarm.fo – choose your info: 1,000+\n",
      "FunForMobile Ringtones & Chat: 5,000,000+\n",
      "Chat For Strangers - Video Chat: 100,000+\n",
      "Fr Daoud Lamei: 100,000+\n",
      "Naruto & Boruto FR: 100+\n",
      "Frim: get new friends on local chat rooms: 5,000,000+\n"
     ]
    }
   ],
   "source": [
    "for app in apps_android_free:\n",
    "    if(app[1] == 'SOCIAL'): print(app[0] + ': ' + app[5])"
   ]
  },
  {
   "cell_type": "markdown",
   "id": "instant-boston",
   "metadata": {},
   "source": [
    "Para a categoria `SOCIAL`, temos *Facebook*, *Instagram* e *Google+* dominando as instalações."
   ]
  },
  {
   "cell_type": "code",
   "execution_count": 40,
   "id": "indonesian-mainstream",
   "metadata": {},
   "outputs": [
    {
     "name": "stdout",
     "output_type": "stream",
     "text": [
      "TouchNote: Cards & Gifts: 1,000,000+\n",
      "FreePrints – Free Photos Delivered: 1,000,000+\n",
      "Groovebook Photo Books & Gifts: 500,000+\n",
      "Moony Lab - Print Photos, Books & Magnets ™: 50,000+\n",
      "LALALAB prints your photos, photobooks and magnets: 1,000,000+\n",
      "Snapfish: 1,000,000+\n",
      "Motorola Camera: 50,000,000+\n",
      "HD Camera - Best Cam with filters & panorama: 5,000,000+\n",
      "LightX Photo Editor & Photo Effects: 10,000,000+\n",
      "Sweet Snap - live filter, Selfie photo edit: 10,000,000+\n",
      "HD Camera - Quick Snap Photo & Video: 1,000,000+\n",
      "B612 - Beauty & Filter Camera: 100,000,000+\n",
      "Waterfall Photo Frames: 1,000,000+\n",
      "Photo frame: 100,000+\n",
      "Huji Cam: 5,000,000+\n",
      "Unicorn Photo: 1,000,000+\n",
      "HD Camera: 5,000,000+\n",
      "Makeup Editor -Beauty Photo Editor & Selfie Camera: 1,000,000+\n",
      "Makeup Photo Editor: Makeup Camera & Makeup Editor: 1,000,000+\n",
      "Moto Photo Editor: 5,000,000+\n",
      "InstaBeauty -Makeup Selfie Cam: 50,000,000+\n",
      "Garden Photo Frames - Garden Photo Editor: 500,000+\n",
      "Photo Frame: 10,000,000+\n",
      "Selfie Camera - Photo Editor & Filter & Sticker: 50,000,000+\n",
      "Sweet Snap Lite - live filter, Selfie photo editor: 500,000+\n",
      "Selfie Camera: Beauty Camera, Photo Editor,Collage: 1,000,000+\n",
      "Night Photo Frame: 1,000,000+\n",
      "YouCam Makeup - Magic Selfie Makeovers: 100,000,000+\n",
      "Selfie Photo Editor: 1,000,000+\n",
      "ASUS Gallery: 50,000,000+\n",
      "Kids Photo Frames: 1,000,000+\n",
      "Pencil Photo Sketch-Sketching Drawing Photo Editor: 1,000,000+\n",
      "Pretty Makeup, Beauty Photo Editor & Snappy Camera: 5,000,000+\n",
      "Photo Collage - Layout Editor: 10,000,000+\n",
      "DSLR Camera Hd Ultra Professional: 1,000,000+\n",
      "Snap Cat Face Camera: 1,000,000+\n",
      "Silent Camera [High Quality]: 5,000,000+\n",
      "Sweet Camera - Selfie Filters, Beauty Camera: 10,000,000+\n",
      "Photo Frames: 10,000,000+\n",
      "Sweet Selfie - selfie camera, beauty cam, photo edit: 100,000,000+\n",
      "Candy selfie - photo editor, live filter camera: 10,000,000+\n",
      "Open Camera: 10,000,000+\n",
      "Beauty Makeup – Photo Makeover: 1,000,000+\n",
      "Blur Image Background Editor (Blur Photo Editor): 5,000,000+\n",
      "Muzy - Share photos & collages: 5,000,000+\n",
      "QuickPic - Photo Gallery with Google Drive Support: 10,000,000+\n",
      "Flickr: 10,000,000+\n",
      "Camera for Android: 10,000,000+\n",
      "Photo Mixer: 10,000,000+\n",
      "Wondershare PowerCam: 10,000,000+\n",
      "love: 1,000,000+\n",
      "KVAD Camera +: Selfie, Photo Filter, Grids: 1,000,000+\n",
      "Camera51 - a smarter camera: 1,000,000+\n",
      "InstaCam - Camera for Selfie: 1,000,000+\n",
      "Sweet Camera: 5,000,000+\n",
      "RetroSelfie - Selfie Editor: 10,000,000+\n",
      "Mega Photo: 1,000,000+\n",
      "Blur Image Background: 10,000,000+\n",
      "MIX by Camera360: 5,000,000+\n",
      "Google Photos: 1,000,000,000+\n",
      "SuperPhoto - Effects & Filters: 5,000,000+\n",
      "Camera FV-5 Lite: 10,000,000+\n",
      "HD Camera Ultra: 10,000,000+\n",
      "Cameringo Lite. Filters Camera: 10,000,000+\n",
      "Camera ZOOM FX - FREE: 5,000,000+\n",
      "HD Camera Pro for Android: 1,000,000+\n",
      "GoPro (formerly Capture): 10,000,000+\n",
      "Beauty Makeup Snappy Collage Photo Editor - Lidow: 10,000,000+\n",
      "Samsung SMART CAMERA App: 1,000,000+\n",
      "Square InPic - Photo Editor & Collage Maker: 50,000,000+\n",
      "High-Speed Camera (GIF,Burst): 5,000,000+\n",
      "Camera MX - Free Photo & Video Camera: 10,000,000+\n",
      "EyeEm - Camera & Photo Filter: 10,000,000+\n",
      "Retrica: 100,000,000+\n",
      "VSCO: 50,000,000+\n",
      "PhotoWonder: Pro Beauty Photo Editor Collage Maker: 50,000,000+\n",
      "Photo Effects Pro: 50,000,000+\n",
      "Photo Editor Selfie Camera Filter & Mirror Image: 50,000,000+\n",
      "No Crop & Square for Instagram: 10,000,000+\n",
      "Picture Grid Builder: 5,000,000+\n",
      "HD Camera for Android: 10,000,000+\n",
      "Photo Studio: 10,000,000+\n",
      "Photo Editor Pro: 100,000,000+\n",
      "Photo Editor-: 5,000,000+\n",
      "Mirror Photo:Editor Collage (HD): 10,000,000+\n",
      "Pic Stitch - #1 Collage Maker: 1,000,000+\n",
      "PhotoDirector Photo Editor App: 10,000,000+\n",
      "Pic Collage - Photo Editor: 50,000,000+\n",
      "Photo Editor by Aviary: 50,000,000+\n",
      "Video Editor Music,Cut,No Crop: 50,000,000+\n",
      "Pixlr – Free Photo Editor: 50,000,000+\n",
      "Photo Editor: 10,000,000+\n",
      "Photo Collage Maker: 10,000,000+\n",
      "Adobe Photoshop Express:Photo Editor Collage Maker: 50,000,000+\n",
      "BeautyPlus - Easy Photo Editor & Selfie Camera: 100,000,000+\n",
      "PicsArt Photo Studio: Collage Maker & Pic Editor: 100,000,000+\n",
      "Photo Collage Editor: 100,000,000+\n",
      "Color Touch Effects: 10,000,000+\n",
      "InstaSize Photo Filters & Collage Editor: 50,000,000+\n",
      "Z Camera - Photo Editor, Beauty Selfie, Collage: 100,000,000+\n",
      "PhotoGrid: Video & Pic Collage Maker, Photo Editor: 100,000,000+\n",
      "Candy Camera - selfie, beauty camera, photo editor: 100,000,000+\n",
      "YouCam Perfect - Selfie Photo Editor: 100,000,000+\n",
      "Pixgram- video photo slideshow: 5,000,000+\n",
      "Fotor Photo Editor - Photo Collage & Photo Effects: 10,000,000+\n",
      "Snapseed: 50,000,000+\n",
      "Camera360: Selfie Photo Editor with Funny Sticker: 100,000,000+\n",
      "Font Studio- Photo Texts Image: 10,000,000+\n",
      "Add Text To Photo: 1,000,000+\n",
      "Phonto - Text on Photos: 10,000,000+\n",
      "Collage&Add Stickers papelook: 5,000,000+\n",
      "Shutterfly: Free Prints, Photo Books, Cards, Gifts: 5,000,000+\n",
      "Photo Collage - InstaMag: 10,000,000+\n",
      "Meitu – Beauty Cam, Easy Photo Editor: 10,000,000+\n",
      "Bestie - Camera360 Selfie: 10,000,000+\n",
      "B Tiff Viewer: 100,000+\n",
      "F-Stop Gallery: 1,000,000+\n",
      "How Do I Look: 500,000+\n",
      "Keepsafe Photo Vault: Hide Private Photos & Videos: 50,000,000+\n",
      "MakeupPlus - Your Own Virtual Makeup Artist: 50,000,000+\n",
      "Pixlr-o-matic: 10,000,000+\n",
      "PixelLab - Text on pictures: 10,000,000+\n",
      "Leica Q: 10,000+\n",
      "S Photo Editor - Collage Maker , Photo Collage: 100,000,000+\n",
      "U Camera : Phone 6s OS 9 style: 500,000+\n",
      "V.360° Camera: 100,000+\n",
      "Profile w/o crop for Telegram: 10,000+\n",
      "Z Camera: 10,000+\n",
      "Six Pack Abs Photo Editor: 1,000,000+\n",
      "Brica BPRO5 AE: 500,000+\n",
      "AfterFocus: 10,000,000+\n",
      "DSLR camera - Auto Focus and Blur Professional: 10,000+\n",
      "AR effect: 100,000,000+\n",
      "ASUS PixelMaster Camera: 10,000,000+\n",
      "easyFocus: 500,000+\n",
      "Blur Image - DSLR focus effect: 5,000,000+\n",
      "Camera Pro: 1,000,000+\n",
      "HD Camera - silent shutter: 1,000,000+\n",
      "A Better Camera: 5,000,000+\n",
      "Auto Dslr Photo Effect : Auto Focus Effect: 1,000+\n",
      "PhotoScan by Google Photos: 10,000,000+\n",
      "Afterlight: 1,000,000+\n",
      "Blurfoto : Auto blur photo background & DSLR focus: 500,000+\n",
      "Blur: 1,000,000+\n",
      "Picai - Smart AI Camera: 100,000+\n",
      "Adobe Illustrator Draw: 5,000,000+\n",
      "FaceApp: 10,000,000+\n",
      "AI Image Recognizer (beta): 500+\n",
      "AJ Cam: 100+\n",
      "Selfie With Champion AJ Style: 500+\n",
      "A.J. Styles HD Wallpapers 2018: 100+\n",
      "Scoompa Video - Slideshow Maker and Video Editor: 10,000,000+\n",
      "AEE AP: 1,000+\n",
      "SNOW - AR Camera: 50,000,000+\n",
      "Add Watermark Free: 1,000,000+\n",
      "camera zoom moon: 500,000+\n",
      "AZ Camera - Manual Pro Cam: 100,000+\n",
      "BC Camera: 500+\n",
      "Photo Editor by BeFunky: 10,000,000+\n",
      "Be Fabulous PHOTO BOOTH: 10,000+\n",
      "Adobe Photoshop Fix: 5,000,000+\n",
      "Photo BG Changer: 1,000+\n",
      "BG Editor: 5+\n",
      "PhotoLayers〜Superimpose,Eraser: 10,000,000+\n",
      "Blender BG - Photo Blend With Background: 100+\n",
      "Auto Background Changer: 1,000,000+\n",
      "Change photo background: 5,000,000+\n",
      "Background Eraser: 10,000,000+\n",
      "Background Changer & Eraser: 500,000+\n",
      "Cut Out : Background Eraser and background changer: 1,000,000+\n",
      "Ultimate Background Eraser: 1,000,000+\n",
      "DSLR Photography Training apps: 100,000+\n",
      "Photo Editor - BPhoto: 1,000+\n",
      "24 megapixel hd camera: 100,000+\n",
      "BK Photography: 1,000+\n",
      "BL 1-Click Camera - Free: 10,000+\n",
      "BL Portfolio: 100+\n",
      "BQ Camera: 1,000,000+\n",
      "BT Camera: 500,000+\n",
      "BlitzWolf Shutter - BW Shutter: 50,000+\n",
      "Black & White Camera - Lovely BW: 100,000+\n",
      "Analog BW - Camera filter effect foto film retouch: 100+\n",
      "Hypocam: 1,000,000+\n",
      "B&W Photo Filter Editor: 50,000+\n",
      "CB VIDEO VISION: 100+\n",
      "CB Hair Png - New Hair Png For CB Editing: 500+\n",
      "CB Edits PNG & CB Backgrounds: 5,000+\n",
      "CG Prints: 100+\n",
      "Gold Teeth Photo Editor: 100,000+\n",
      "Night Camera Blur Effect: 10,000+\n",
      "Camera V7 24 Megapixel: 100,000+\n",
      "Leica CL: 1,000+\n",
      "Canon CameraWindow: 1,000,000+\n",
      "Cymera Camera- Photo Editor, Filter,Collage,Layout: 100,000,000+\n",
      "Camera360 Lite - Selfie Camera: 10,000,000+\n",
      "Wallpaper.cz: 100+\n",
      "Face Filter, Selfie Editor - Sweet Camera: 10,000,000+\n",
      "Visage Lab – face retouch: 5,000,000+\n",
      "LC-DB-LITE: 100+\n",
      "DC-014: 500+\n",
      "Bokeh (Background defocus): 10,000,000+\n",
      "Love Collage - Photo Editor: 10,000,000+\n",
      "LINE Camera - Photo editor: 100,000,000+\n",
      "DF Night Selfies: 10,000+\n",
      "My Photo Keyboard: 10,000,000+\n",
      "Story Saver for Instagram: 5,000,000+\n",
      "Boomerang from Instagram: 50,000,000+\n",
      "Insave-Download for Instagram: 1,000,000+\n",
      "DP Editor: 5,000+\n",
      "DP Maker: 100,000+\n",
      "Square DP For Whatsapp: 10,000+\n",
      "DP Creator for WhatsApp: 100,000+\n",
      "Dp For FB: 1,000+\n",
      "Magical Insta DP: 1,000+\n",
      "All Types DP & Status Maker: 1,000+\n",
      "DP Photo Editor: 10,000+\n",
      "Fifa World Cup 2018: Photo Frame Editor & DP Maker: 100,000+\n",
      "Insta Square Profile DP: 5,000+\n",
      "DP Status 2017: 50,000+\n",
      "LightMeter Free: 1,000,000+\n",
      "DS-L4 Viewer: 1,000+\n",
      "DU GIF Maker: GIF Maker, Video to GIF & GIF Editor: 500,000+\n",
      "DU Collage Maker - Photo Collage & Grid & Layout: 100,000+\n",
      "Live DV: 1,000+\n",
      "DV-4036 by Somikon: 1,000+\n",
      "Touch DV: 50+\n",
      "XDV: 1,000,000+\n",
      "DV Lottery Photo Tool: 50,000+\n",
      "DV KING 4K: 100+\n",
      "Wifi Action Camera: 50,000+\n",
      "4K Ultra Camera: 100,000+\n",
      "DV KING: 100+\n",
      "DENVER ACTION CAM 3: 10,000+\n",
      "SportLook: 100,000+\n",
      "Displaying You VR: 50+\n",
      "i am EB: 10+\n",
      "Retro Camera: 10,000,000+\n",
      "Footej Camera: 1,000,000+\n",
      "Video Maker with Photo and Music: 1,000,000+\n",
      "Phogy, 3D Camera: 1,000,000+\n",
      "Photo Lab Picture Editor: face effects, art frames: 50,000,000+\n",
      "MomentCam Cartoons & Stickers: 50,000,000+\n",
      "A+ Gallery - Photos & Videos: 10,000,000+\n",
      "Light Meter - EV: 1,000+\n",
      "FilterGrid - Cam&Photo Editor: 1,000,000+\n",
      "ez Share Android app: 100,000+\n",
      "Ez iCam: 1,000,000+\n",
      "Facejjang: 10,000,000+\n",
      "Cover Camera for FB: 100,000+\n",
      "FB Photographie: 1,000+\n",
      "FD Fotografia: 100+\n",
      "Ghost In Photo: 5,000,000+\n",
      "FH WiFiCam: 10,000+\n",
      "PIP Selfie Camera Photo Editor: 10,000,000+\n",
      "FL Drone 2: 5,000+\n",
      "FN Cam: 10,000+\n",
      "PIP-Camera FN Photo Effect: 1,000+\n",
      "Photo Editor Collage Maker Pro: 100,000,000+\n",
      "Free Slideshow Maker & Video Editor: 10,000,000+\n",
      "Thumbnail Maker: 1,000,000+\n",
      "PhotoFunia: 10,000,000+\n"
     ]
    }
   ],
   "source": [
    "for app in apps_android_free:\n",
    "    if(app[1] == 'PHOTOGRAPHY'): print(app[0] + ': ' + app[5])"
   ]
  },
  {
   "cell_type": "markdown",
   "id": "ranking-watts",
   "metadata": {},
   "source": [
    "Em `PHOTOGRAPHY`, há apenas um que domina as instalações com `1.000.000.000+`, que é o *Google Photos*, e dezoito outros (de edição de fotos ou câmeras com filtros, principalmente) que possuem `100.000.000+`. Se considerássemos apenas o *Android*, esta seria uma categoria interessante de se buscar ter ideias de desenvolvimento de aplicativos. Sigamos com a análise."
   ]
  },
  {
   "cell_type": "code",
   "execution_count": 41,
   "id": "technological-centre",
   "metadata": {},
   "outputs": [
    {
     "name": "stdout",
     "output_type": "stream",
     "text": [
      "Microsoft Word: 500,000,000+\n",
      "All-In-One Toolbox: Cleaner, Booster, App Manager: 10,000,000+\n",
      "AVG Cleaner – Speed, Battery & Memory Booster: 10,000,000+\n",
      "QR Scanner & Barcode Scanner 2018: 10,000,000+\n",
      "Chrome Beta: 10,000,000+\n",
      "Microsoft Outlook: 100,000,000+\n",
      "Google PDF Viewer: 10,000,000+\n",
      "My Claro Peru: 5,000,000+\n",
      "Power Booster - Junk Cleaner & CPU Cooler & Boost: 1,000,000+\n",
      "Google Assistant: 10,000,000+\n",
      "Microsoft OneDrive: 100,000,000+\n",
      "Calculator - unit converter: 50,000,000+\n",
      "Microsoft OneNote: 100,000,000+\n",
      "Metro name iD: 10,000,000+\n",
      "Google Keep: 100,000,000+\n",
      "Archos File Manager: 5,000,000+\n",
      "ES File Explorer File Manager: 100,000,000+\n",
      "ASUS SuperNote: 10,000,000+\n",
      "HTC File Manager: 10,000,000+\n",
      "MyMTN: 1,000,000+\n",
      "Dropbox: 500,000,000+\n",
      "ASUS Quick Memo: 10,000,000+\n",
      "HTC Calendar: 10,000,000+\n",
      "Google Docs: 100,000,000+\n",
      "ASUS Calling Screen: 10,000,000+\n",
      "lifebox: 5,000,000+\n",
      "Yandex.Disk: 5,000,000+\n",
      "Content Transfer: 5,000,000+\n",
      "HTC Mail: 10,000,000+\n",
      "Advanced Task Killer: 50,000,000+\n",
      "MyVodafone (India) - Online Recharge & Pay Bills: 10,000,000+\n",
      "Microsoft PowerPoint: 100,000,000+\n",
      "Microsoft Translator: 5,000,000+\n",
      "My Airtel-Online Recharge, Pay Bill, Wallet, UPI: 50,000,000+\n",
      "Samsung Notes: 100,000,000+\n",
      "Do It Later: Tasks & To-Dos: 50,000,000+\n",
      "Verizon Cloud: 50,000,000+\n",
      "myAT&T: 50,000,000+\n",
      "SwiftKey Keyboard: 100,000,000+\n",
      "Hacker's Keyboard: 1,000,000+\n",
      "MEGA: 50,000,000+\n",
      "Security & Privacy: 1,000,000+\n",
      "7 Weeks - Habit & Goal Tracker: 500,000+\n",
      "Loop - Habit Tracker: 1,000,000+\n",
      "TickTick: To Do List with Reminder, Day Planner: 1,000,000+\n",
      "Keeper: Free Password Manager & Secure Vault: 10,000,000+\n",
      "Pushbullet - SMS on PC: 1,000,000+\n",
      "Wunderlist: To-Do List & Tasks: 10,000,000+\n",
      "Planner Pro-Personal Organizer: 1,000,000+\n",
      "Todoist: To-do lists for task management & errands: 10,000,000+\n",
      "Cozi Family Organizer: 1,000,000+\n",
      "IFTTT: 1,000,000+\n",
      "Trello: 5,000,000+\n",
      "Easy Voice Recorder: 10,000,000+\n",
      "Dashlane Free Password Manager: 1,000,000+\n",
      "CM FILE MANAGER HD: 10,000,000+\n",
      "Solid Explorer Classic: 1,000,000+\n",
      "File Browser by Astro (File Manager): 50,000,000+\n",
      "File Explorer: 100,000+\n",
      "The Maner: 5,000,000+\n",
      "AndroZip™ FREE File Manager: 10,000,000+\n",
      "Solid Explorer File Manager: 1,000,000+\n",
      "Smart File Manager: 1,000,000+\n",
      "Google Drive: 1,000,000,000+\n",
      "Adobe Acrobat Reader: 100,000,000+\n",
      "Google Sheets: 100,000,000+\n",
      "Microsoft Excel: 100,000,000+\n",
      "Polaris Office - Word, Docs, Sheets, Slide, PDF: 10,000,000+\n",
      "WPS Office - Word, Docs, PDF, Note, Slide & Sheet: 100,000,000+\n",
      "Google Slides: 100,000,000+\n",
      "ColorNote Notepad Notes: 100,000,000+\n",
      "Note Everything: 5,000,000+\n",
      "Simple Notepad: 1,000,000+\n",
      "Keep My Notes - Notepad & Memo: 5,000,000+\n",
      "Sticky Note + : Sync Notes: 1,000,000+\n",
      "Notepad: 10,000,000+\n",
      "Squid - Take Notes & Markup PDFs: 1,000,000+\n",
      "Ultimate Notepad: 5,000,000+\n",
      "Notepad & To do list: 10,000,000+\n",
      "JotterPad - Writer, Screenplay, Novel: 1,000,000+\n",
      "Evernote – Organizer, Planner for Notes & Memos: 100,000,000+\n",
      "Any.do: To-do list, Calendar, Reminders & Planner: 10,000,000+\n",
      "Planning Center Services: 500,000+\n",
      "Calendar+ Schedule Planner App: 1,000,000+\n",
      "Today Calendar 2017: 1,000,000+\n",
      "To-Do Calendar Planner: 1,000,000+\n",
      "New Calendar: 1,000,000+\n",
      "Calendar Widget Month + Agenda: 5,000,000+\n",
      "DigiCal Calendar Agenda: 5,000,000+\n",
      "Time Recording - Timesheet App: 1,000,000+\n",
      "Jorte Calendar & Organizer: 10,000,000+\n",
      "Business Calendar 2: 5,000,000+\n",
      "Google Calendar: 500,000,000+\n",
      "aCalendar - Android Phone: 10,000,000+\n",
      "G Cloud Backup: 5,000,000+\n",
      "Unclouded - Cloud Manager: 100,000+\n",
      "Amazon Drive: 1,000,000+\n",
      "SugarSync: 1,000,000+\n",
      "pCloud: Free Cloud Storage: 1,000,000+\n",
      "MediaFire: 5,000,000+\n",
      "Cloud Print: 500,000,000+\n",
      "Fake Call - Fake Caller ID: 10,000,000+\n",
      "AutoCAD - DWG Viewer & Editor: 10,000,000+\n",
      "Alt-C: 10,000+\n",
      "My C Spire: 50,000+\n",
      "Mobile Security & Antivirus: 10,000,000+\n",
      "EX File Explorer File Manager: 1,000,000+\n",
      "EBookDroid - PDF & DJVU Reader: 5,000,000+\n",
      "Inputting Plus: Ctrl + Z/F/C/V: 50,000+\n",
      "CTRL-F - Search the real world: 50,000+\n",
      "Larry H Miller Automotive: 10,000+\n",
      "Add-On: Alcatel (h): 50,000+\n",
      "J. Polep Plus Mobile: 100+\n",
      "K-App Mitarbeiter Galeria Kaufhof: 100+\n",
      "Calculator L: 100,000+\n",
      "Emoji Android L Keyboard: 1,000,000+\n",
      "Mobizen Screen Recorder - Record, Capture, Edit: 50,000,000+\n",
      "Tap N Pay: 10,000+\n",
      "N Files - File Manager & Explorer: 10,000+\n",
      "WiFi-o-Matic: 50,000+\n",
      "Multiling O Keyboard + emoji: 1,000,000+\n",
      "Official QR Code® Reader \"Q\": 500,000+\n",
      "Q Actions - Digital Assistant: 500+\n",
      "Q Link Wireless Zone: 500,000+\n",
      "R-net for Android: 5,000+\n",
      "Mat|r viewer: 100+\n",
      "S Note: 10,000,000+\n",
      "S’more - Earn Cash Rewards: 1,000,000+\n",
      "SH Script Runner: 50,000+\n",
      "AT&T Mobile Transfer: 10,000,000+\n",
      "T-Mobile Content Transfer: 500,000+\n",
      "Můj T-Mobile Business: 1,000,000+\n",
      "U Assist - Screen Mirroring & Sharing App: 50,000+\n",
      "U+Box: 10,000,000+\n",
      "NQ Mobile Security & Antivirus: 10,000,000+\n",
      "Air Conditioner Maintenance: 5,000+\n",
      "Remote Control For All AC - Universal Remote: 10,000+\n",
      "Ad Detect Plugin - Handy Tool: 500,000+\n",
      "Safe Notes - Secure Ad-free notepad: 50,000+\n",
      "Adblock Fast: 1,000,000+\n",
      "Google AdSense: 1,000,000+\n",
      "Best Applock - Locker & No Ads: 100,000+\n",
      "TIMBER AD FILTER - Very useful ad block app: 100,000+\n",
      "ESS Mobile for AE: 5,000+\n",
      "Trimble Ag Mobile: 10,000+\n",
      "Ag PhD Soils: 1,000+\n",
      "Ag Trucking Mobile App: 100+\n",
      "Ag Guardian: 100+\n",
      "My Ag Report: 50+\n",
      "Mix Tank – Tank Mixing Ag App: 10,000+\n",
      "Extreme- Personal Voice Assistant: 1,000,000+\n",
      "Puck AI Personal Assistant Robot: 1,000+\n",
      "Builder (by Engineer.ai): 100+\n",
      "Friday: Smart Personal Assistant: 100,000+\n",
      "Lyra Virtual Assistant: 1,000,000+\n",
      "ai.Bot Box: 10,000+\n",
      "MiAI (Artificial Intelligence) Assistant: 100+\n",
      "Turbo AI™ - Personal assistant: 5,000+\n",
      "AI Sight: 1,000+\n",
      "AL Voice Recorder: 1,000,000+\n",
      "AP ENPS Mobile: 5,000+\n",
      "AQ Guards: 10+\n",
      "QR Droid: 50,000,000+\n",
      "Mind Map AR, Augmented Reality ARCore Mind Mapping: 5,000+\n",
      "PDF Viewer & Book Reader: 5,000,000+\n",
      "Alarm Clock: Stopwatch & Timer: 50,000,000+\n",
      "Total AV: 100,000+\n",
      "Mobile Security: Antivirus, Web Scan & App Lock: 10,000,000+\n",
      "Professional AV Solution & Products information: 1,000+\n",
      "Bits Watch Face: 100,000+\n",
      "Tips Microsoft Dynamics Ax: 500+\n",
      "Tips & Tricks Dynamics AX 365: 100+\n",
      "A-Z App Store: 500,000+\n",
      "BA Calculator: 5,000+\n",
      "Town of Princeton, BC: 100+\n",
      "Electricity Bill Calculator BD: 10,000+\n",
      "BD Attendance: 1,000+\n",
      "BD Field Force: 1,000+\n",
      "BG+Phone Backup: 1,000+\n",
      "ALL-IN-ONE PACKAGE TRACKING: 1,000,000+\n",
      "MinT BI: 10+\n",
      "BJ Memo Widget: 50,000+\n",
      "SKIN BK: 10+\n",
      "BM Interventi: 10+\n",
      "BAMMS for BM 1Park: 50+\n",
      "BAMMS for BM SQ: 10+\n",
      "BN Inscript Improved Input keyboard: 10+\n",
      "Calendars (En, Bn, Ar): 1,000+\n",
      "BN DB1 App: 50+\n",
      "BN Inscript Improved Keyboard: 10+\n",
      "Add-On: bq (a): 5,000+\n",
      "Add-On: bq (c): 1,000+\n",
      "Add-On: bq (b): 1,000+\n",
      "BV Mobile Apps: 100+\n",
      "BW Ultra: 10+\n",
      "BW-IVMS: 100+\n",
      "IP address BW: 500+\n",
      "BW t&t: 10+\n",
      "BZ Dealer: 500+\n",
      "CA World '17: 1,000+\n",
      "Register.ca Mobile: 100+\n",
      "CD Library: 10,000+\n",
      "APagri CD: 10+\n",
      "CE SODEXO PASS FRANCE: 50+\n",
      "ACCEPT CE MARKING: 10+\n",
      "CG - Calendars Add-On: 5,000+\n",
      "CG - Conference Call Add-On: 1,000+\n",
      "Somos CG: 100+\n",
      "My CG: 10+\n",
      "Chrome Canary (Unstable): 1,000,000+\n",
      "CI Remote for Go: 100+\n",
      "IQ Test: 100,000+\n",
      "Thistletown CI: 100+\n",
      "CI Time: 100+\n",
      "CircleCI Viewer: 1,000+\n",
      "CI CAFETERIAS UBER: 100+\n",
      "CJ'S TIRE AND AUTO INC.: 100+\n",
      "Commission Manager: 1,000+\n",
      "CJ Wilson's ZoomZoomnation: 500+\n",
      "Inch/cm/Foot Conversion: 100,000+\n",
      "cm, mm to inch, feet converter tool: 100,000+\n",
      "Krypton by krypt.co: 1,000+\n",
      "Fayr - Co-Parenting Simplified: 1,000+\n",
      "CP Connect 2.0: 500+\n",
      "CQ Ukraine: 10+\n",
      "CQ Electrical Group: 1+\n",
      "iReadMe: 100+\n",
      "Ultimate Calculator for CR: 500,000+\n",
      "Ultimate Chest Tracker: 1,000,000+\n",
      "CamScanner - Phone PDF Creator: 100,000,000+\n",
      "Bomb and Nade Timer for CS:GO: 5,000+\n",
      "Solar CT PV System Power: 10,000+\n",
      "CT CONNECT: 50+\n",
      "My CU - Caucasus University: 1,000+\n",
      "Resume & CV Creator by Desygner: 5,000+\n",
      "Resume Builder and CV maker app: 100,000+\n",
      "Resume Free: 1,000,000+\n",
      "Curriculum Vitae - Resume CV: 10,000+\n",
      "Pocket RxTx Free: 100,000+\n",
      "Cx Wize: 100+\n",
      "CONNECT: The Mobile CX Summit: 50+\n",
      "CX Summit: 50+\n",
      "CY Security Antivirus Cleaner: 1,000,000+\n",
      "Phone Clean Best Speed Booster: 1,000,000+\n",
      "LOCX Applock Lock Apps & Photo: 10,000,000+\n",
      "RoutePlan.cz: 100+\n",
      "DB Manager: 1,000+\n",
      "DF-Server Mobile: 100+\n",
      "DG Report Reminder: 10,000+\n",
      "DG Phone Call Task Switcher: 1,000+\n",
      "DG Users: 100+\n",
      "e-Boks.dk: 1,000,000+\n",
      "Download Manager Pro FREE: 100,000+\n",
      "Trimble DL: 10,000+\n",
      "IDM Internet Download Manager: 100,000+\n",
      "Shaggy's DM Assistant: 5+\n",
      "DN Events: 500+\n",
      "WFVS 2018 | WhatApp Full Video Status & Downloader: 50,000+\n",
      "Mahalaxmi Dindarshika 2018: 1,000,000+\n",
      "Microsoft To-Do: List, Task & Reminder: 1,000,000+\n",
      "To Do List: 5,000,000+\n",
      "To Do Reminder with Alarm: 1,000,000+\n",
      "Ike - To-Do List, Task List: 100,000+\n",
      "My Effectiveness: To do, Tasks: 500,000+\n",
      "Do it (Tomorrow): 1,000,000+\n",
      "Do Not Disturb: 100,000+\n",
      "To-Do List Widget: 1,000,000+\n",
      "NoteToDo. Notes. To do list: 1,000,000+\n",
      "Memory Helper - To do list, Notepad, Notes, Memo: 500,000+\n",
      "2Do - Reminders, To-do List & Notes: 100,000+\n",
      "Time Planner - Schedule, To-Do List, Time Tracker: 500,000+\n",
      "MyLifeOrganized: To-Do List: 100,000+\n",
      "Cal - Google Calendar + Widget: 1,000,000+\n",
      "Clean My House – Chore To Do List, Task Scheduler: 100,000+\n",
      "Goal Meter: Goal Tracker, Habit Changer,To-Do List: 100,000+\n",
      "To-do list: 50,000+\n",
      "Adobe Fill & Sign: Easy PDF Form Filler: 1,000,000+\n",
      "Dr.Android Repair Master 2017: 100,000+\n",
      "DS file: 1,000,000+\n",
      "DS note: 100,000+\n",
      "DS cam: 500,000+\n",
      "Synology Drive: 100,000+\n",
      "DS-20000S: 1,000+\n",
      "DT Manager: 500+\n",
      "DT Freight: 1+\n",
      "Clean My Android: 5,000,000+\n",
      "APUS Booster - Space Cleaner & Booster: 10,000,000+\n",
      "DV Web Design Tips: 10+\n",
      "Dz Dinars Numbers to letters: 100,000+\n",
      "Numbers Into Words: 50,000+\n",
      "DZ Register: 1+\n",
      "Epson iProjection: 1,000,000+\n",
      "EB Scanner: 50+\n",
      "Exército Brasileiro: 100,000+\n",
      "ec-Work: 100+\n",
      "New Holland Agriculture T5 EC: 1,000+\n",
      "EC Taximeter: 10,000+\n",
      "EC QR: 10+\n",
      "EC Sampler: 1+\n",
      "SCS eC: 100+\n",
      "EF Staff: 100+\n",
      "EF Calculator: 1,000+\n",
      "eG Monitor: 100+\n",
      "EG: 100+\n",
      "EI!: 10+\n",
      "Sai Baba - Sabka Malik Ek: 1,000+\n",
      "Ek Vote: 500+\n",
      "Ginger Keyboard - Emoji, GIFs, Themes & Games: 5,000,000+\n",
      "EP Home Energy Hub: 100+\n",
      "EP Cloud: 10+\n",
      "ER Assist: 10+\n",
      "ES Disk Analyzer - Storage Space: 100,000+\n",
      "ES Material Theme for Pro: 1,000,000+\n",
      "ES Holo Theme for Pro: 500,000+\n",
      "ES Billing System (Offline App): 100+\n",
      "ESLock File Recovery Lite: 50,000+\n",
      "iTranslate Translator & Dictionary: 10,000,000+\n",
      "EU Economy: 5,000+\n",
      "Eurostat Country Profiles: 10,000+\n",
      "EU Brazil Green Business Forum: 10+\n",
      "Simple EV Calc: 1,000+\n",
      "EY Team Connect: 50+\n",
      "EY ATL Fuel Calculator: 500+\n",
      "EY Events Switzerland: 500+\n",
      "EZ Inspections: 10,000+\n",
      "EZ Display: 50,000+\n",
      "EZ File Manager(Root Explorer): 100,000+\n",
      "EZ Notes Lite: 1,000+\n",
      "EZ Switch Widget: 100,000+\n",
      "MultiMessage for FB Messenger: 50,000+\n",
      "IDM for Facebook ★ Downloader: 100,000+\n",
      "Chelsea FC Official Keyboard: 1,000,000+\n",
      "Avast Wi-Fi Finder: 1,000,000+\n",
      "Safe Wi-Fi: 1,000+\n",
      "Wi-Fi Networks: 10,000+\n",
      "Fast Notes FJ: 500+\n",
      "FK Events: 5+\n",
      "Charlotte County, FL: 1,000+\n",
      "FL House: 1,000+\n",
      "Florida Cooling Supply HVAC: 500+\n",
      "Fort Myers FL: 100+\n",
      "MY GULFPORT FL: 50+\n",
      "Future Cloud: 100,000+\n",
      "FQ METER: 1,000+\n",
      "PLMGSS FR: 10+\n"
     ]
    }
   ],
   "source": [
    "for app in apps_android_free:\n",
    "    if(app[1] == 'PRODUCTIVITY'): print(app[0] + ': ' + app[5])"
   ]
  },
  {
   "cell_type": "markdown",
   "id": "recreational-speaking",
   "metadata": {},
   "source": [
    "Mais uma vez o *Google* domina uma categoria sozinho, com o *Google Drive*. A categoria de `PRODUCTIVITY` aparenta, pelos nomes, ter uma variabilidade maior em relação à função do aplicativo.\n",
    "\n",
    "No entanto, assim como todas as categorias do Top 5 maiores médias de instalações analisadas anteriormente, os aplicativos que dominam os *downloads* são de empresas gigantes com as quais é difícil de competir.\n",
    "Vamos então remover da nossa média os aplicativos que possuem muitos *downloads* (acima de `100.000.000`) pois, como pudemos observar, eles são geralmente hegemônicos em sua categoria."
   ]
  },
  {
   "cell_type": "markdown",
   "id": "interior-offset",
   "metadata": {},
   "source": [
    "Como já mencionado, se fossem apenas considerados os aplicativos para *Android*, uma boa indicação seria aplicativos de edição de imagens ou câmeras com filtros, no entanto a mesma popularidade não é observada entre usuários de *iOS*. \n",
    "\n",
    "Vamos então verificar se a categoria `BOOKS_AND_REFERENCE` (que foi a indicada para o conjunto dos aplicativos *iOS*) apresentaria uma popularidade considerável entre os usuários de *Android*. Vamos desconsiderar uma quantidade muito grandes de `Installs` - uma vez que de acordo com as análises anteriores, uma quantidade muito grande significa que o aplicativo é de uma gigante -, e também aqueles que tem uma quantidade pequena de *downloads* e instalações - o que indica uma baixa popularidade -, e denominaremos estes aplicativos como \"aplicativos médios\".\n",
    "\n"
   ]
  },
  {
   "cell_type": "code",
   "execution_count": 42,
   "id": "judicial-induction",
   "metadata": {},
   "outputs": [
    {
     "name": "stdout",
     "output_type": "stream",
     "text": [
      "Wikipedia: 10,000,000+\n",
      "Cool Reader: 10,000,000+\n",
      "Book store: 1,000,000+\n",
      "FBReader: Favorite Book Reader: 10,000,000+\n",
      "Free Books - Spirit Fanfiction and Stories: 1,000,000+\n",
      "AlReader -any text book reader: 5,000,000+\n",
      "FamilySearch Tree: 1,000,000+\n",
      "Cloud of Books: 1,000,000+\n",
      "ReadEra – free ebook reader: 1,000,000+\n",
      "Ebook Reader: 5,000,000+\n",
      "Read books online: 5,000,000+\n",
      "eBoox: book reader fb2 epub zip: 1,000,000+\n",
      "All Maths Formulas: 1,000,000+\n",
      "Ancestry: 5,000,000+\n",
      "HTC Help: 10,000,000+\n",
      "Moon+ Reader: 10,000,000+\n",
      "English-Myanmar Dictionary: 1,000,000+\n",
      "Golden Dictionary (EN-AR): 1,000,000+\n",
      "All Language Translator Free: 1,000,000+\n",
      "Aldiko Book Reader: 10,000,000+\n",
      "Dictionary - WordWeb: 5,000,000+\n",
      "50000 Free eBooks & Free AudioBooks: 5,000,000+\n",
      "Al-Quran (Free): 10,000,000+\n",
      "Al Quran Indonesia: 10,000,000+\n",
      "Al'Quran Bahasa Indonesia: 10,000,000+\n",
      "Al Quran Al karim: 1,000,000+\n",
      "Al Quran : EAlim - Translations & MP3 Offline: 5,000,000+\n",
      "Koran Read &MP3 30 Juz Offline: 1,000,000+\n",
      "Hafizi Quran 15 lines per page: 1,000,000+\n",
      "Quran for Android: 10,000,000+\n",
      "Satellite AR: 1,000,000+\n",
      "Oxford A-Z of English Usage: 1,000,000+\n",
      "Dictionary.com: Find Definitions for English Words: 10,000,000+\n",
      "English Dictionary - Offline: 10,000,000+\n",
      "Bible KJV: 5,000,000+\n",
      "NOOK: Read eBooks & Magazines: 10,000,000+\n",
      "Brilliant Quotes: Life, Love, Family & Motivation: 1,000,000+\n",
      "Stats Royale for Clash Royale: 1,000,000+\n",
      "Dictionary: 10,000,000+\n",
      "wikiHow: how to do anything: 1,000,000+\n",
      "EGW Writings: 1,000,000+\n",
      "My Little Pony AR Guide: 1,000,000+\n",
      "Spanish English Translator: 10,000,000+\n",
      "Dictionary - Merriam-Webster: 10,000,000+\n",
      "JW Library: 10,000,000+\n",
      "Oxford Dictionary of English : Free: 10,000,000+\n",
      "English Hindi Dictionary: 10,000,000+\n",
      "English to Hindi Dictionary: 5,000,000+\n"
     ]
    },
    {
     "data": {
      "text/markdown": [
       "#### Média de instalações dos aplicativos médios da categoria `BOOKS_AND_REFERENCE`"
      ],
      "text/plain": [
       "<IPython.core.display.Markdown object>"
      ]
     },
     "metadata": {},
     "output_type": "display_data"
    },
    {
     "name": "stdout",
     "output_type": "stream",
     "text": [
      "5312500.0\n"
     ]
    }
   ],
   "source": [
    "total = 0\n",
    "qty = 0\n",
    "\n",
    "for app in apps_android_free:\n",
    "    if(app[1] == 'BOOKS_AND_REFERENCE' and (app[5] == '1,000,000+'\n",
    "                                            or app[5] == '5,000,000+'\n",
    "                                            or app[5] == '10,000,000+'\n",
    "                                            or app[5] == '50,000,000+')):\n",
    "        print(app[0] + ': ' + app[5])\n",
    "        total += float(app[5].replace('+','').replace(',',''))\n",
    "        qty += 1\n",
    "\n",
    "display(Markdown('#### Média de instalações dos aplicativos médios da categoria `BOOKS_AND_REFERENCE`'))\n",
    "print(round((total/qty),2))\n",
    "        "
   ]
  },
  {
   "cell_type": "markdown",
   "id": "aging-basketball",
   "metadata": {},
   "source": [
    "Em uma primeira olhada, é possível ver que a quantidade de aplicativos é grande (corroborado pela análise anterior, onde constava que do conjunto total, 2.14% são pertencentes a esta categoria). Além disso, a média da quantidade de instalações também é grande, passando dos 5 milhões.\n",
    "\n",
    "Assim como para os usuários de *iOS*, esta categoria parece promissora também para os usuários de *Android*. No entanto, apenas desenvolver e lançar um aplicativo que sirva como biblioteca/*reader* não parece interessante, uma vez que já existem vários destes. Para cumprir o objetivo de também fugir de um mercado saturado e atrair usuários, seria preciso embutir funções diferentes, como por exemplo a opção de fóruns de discussão, ter um dicionário embutido para consultar palavras, uma versão dos livros em áudio e até *quizzes* em relação ao conteúdo dos livros. Pode-se também ter a possibilidade de criar listas de livros compartilhadas, para os quais os usuários possam descobrir novas possibilidades de leituras. O aplicativo poderia possuir apenas livros de domínio público, o que diminuiria a quantidade de conteúdo que teria de se criar em a partir dos livros, ou poderia focar em um nicho específico, como livros infantis ou livros de auto-ajuda, por exemplo - o que seria o objeto de uma outra análise."
   ]
  },
  {
   "cell_type": "markdown",
   "id": "infinite-atlanta",
   "metadata": {},
   "source": [
    "### Conclusões\n",
    "\n",
    "Neste projeto, analisamos dados provenientes de dois conjuntos diferentes, sendo eles de aplicativos para *Android* e de aplicativos de *iOS*. O objetivo era encontrar um perfil de aplicativo popular entre os usuários de ambos sistemas operacionais\n",
    "\n",
    "A partir deste estudo foi possível concluir que o segmento de livros é um segmento popular para os usuários de ambas as plataformas. Desenvolver um aplicativo desta categoria pode ser interessante, contanto que se faça o esforço de criar novas *features*, como mencionado acima."
   ]
  }
 ],
 "metadata": {
  "kernelspec": {
   "display_name": "Python 3",
   "language": "python",
   "name": "python3"
  },
  "language_info": {
   "codemirror_mode": {
    "name": "ipython",
    "version": 3
   },
   "file_extension": ".py",
   "mimetype": "text/x-python",
   "name": "python",
   "nbconvert_exporter": "python",
   "pygments_lexer": "ipython3",
   "version": "3.9.1"
  }
 },
 "nbformat": 4,
 "nbformat_minor": 5
}
